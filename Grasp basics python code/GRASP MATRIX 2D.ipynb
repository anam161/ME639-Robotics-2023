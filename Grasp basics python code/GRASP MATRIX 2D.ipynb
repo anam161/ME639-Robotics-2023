{
  "nbformat": 4,
  "nbformat_minor": 0,
  "metadata": {
    "colab": {
      "provenance": []
    },
    "kernelspec": {
      "name": "python3",
      "display_name": "Python 3"
    },
    "language_info": {
      "name": "python"
    }
  },
  "cells": [
    {
      "cell_type": "markdown",
      "source": [
        "**GRASP MATRIX FUNCTION**\n"
      ],
      "metadata": {
        "id": "Vk8298Uu68hg"
      }
    },
    {
      "cell_type": "code",
      "execution_count": 1,
      "metadata": {
        "colab": {
          "base_uri": "https://localhost:8080/"
        },
        "id": "WhyItokj60l_",
        "outputId": "9db02ca1-d051-4fd6-8479-f928d9e212f5"
      },
      "outputs": [
        {
          "output_type": "stream",
          "name": "stdout",
          "text": [
            "[[ 0  1]\n",
            " [-1  0]\n",
            " [ 2  0]]\n"
          ]
        }
      ],
      "source": [
        "import numpy as np\n",
        "\n",
        "def grasp_matrix(t1, n1, x1):\n",
        "\n",
        "    t1 = np.atleast_2d(t1).T\n",
        "    n1 = np.atleast_2d(n1).T\n",
        "    x1 = np.atleast_2d(x1).T\n",
        "\n",
        "    G = np.block([[t1, n1], [np.cross(x1.T, t1.T).T, np.cross(x1.T, n1.T).T]])\n",
        "    return G\n",
        "\n",
        "# Test\n",
        "t1 = np.array([0, -1])\n",
        "n1 = np.array([1, 0])\n",
        "x1 = np.array([-2, 0])\n",
        "\n",
        "G = grasp_matrix(t1, n1, x1)\n",
        "print(G)"
      ]
    }
  ]
}