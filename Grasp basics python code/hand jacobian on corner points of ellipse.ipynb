{
  "nbformat": 4,
  "nbformat_minor": 0,
  "metadata": {
    "colab": {
      "provenance": []
    },
    "kernelspec": {
      "name": "python3",
      "display_name": "Python 3"
    },
    "language_info": {
      "name": "python"
    }
  },
  "cells": [
    {
      "cell_type": "markdown",
      "source": [
        "**HAND JACOBIAN FOR 2R**"
      ],
      "metadata": {
        "id": "WpGgBqvC7l6_"
      }
    },
    {
      "cell_type": "code",
      "source": [
        "import numpy as np\n",
        "def W(t, n):\n",
        "    t = np.atleast_2d(t).T\n",
        "    n = np.atleast_2d(n).T\n",
        "    w  = np.block([t,n])\n",
        "    return w\n",
        "\n",
        "def rotation_matrix_2d(theta):\n",
        "    R = np.array([[np.cos(theta), -np.sin(theta)],\n",
        "                  [np.sin(theta), np.cos(theta)]])\n",
        "    return R\n",
        "\n",
        "def jacobian(l1,l2,theta1,theta2):\n",
        "    J = np.array([[-l1*np.sin(theta1), -l2*np.sin(theta2)],\n",
        "                  [l1*np.cos(theta1), l2*np.cos(theta2)]])\n",
        "    return J\n",
        "\n",
        "\n",
        "\n",
        "# test\n",
        "t = np.array([0, -1])\n",
        "n = np.array([1, 0])\n",
        "theta = 0\n",
        "theta1 = 120*(np.pi/180)\n",
        "theta2 = np.pi/6\n",
        "l1 = 0.866\n",
        "l2 = 0.5\n",
        "w= W(t, n)\n",
        "R= rotation_matrix_2d(theta)\n",
        "J = jacobian(l1,l2,theta1,theta2)\n",
        "print(w)\n",
        "\n",
        "print(R)\n",
        "\n",
        "print(J)"
      ],
      "metadata": {
        "colab": {
          "base_uri": "https://localhost:8080/"
        },
        "id": "_gq0s3KR1wNC",
        "outputId": "5b4c7d06-687f-4dd3-bb77-d6892d4094b2"
      },
      "execution_count": 15,
      "outputs": [
        {
          "output_type": "stream",
          "name": "stdout",
          "text": [
            "[[ 0  1]\n",
            " [-1  0]]\n",
            "[[ 1. -0.]\n",
            " [ 0.  1.]]\n",
            "[[-0.749978  -0.25     ]\n",
            " [-0.433      0.4330127]]\n"
          ]
        }
      ]
    },
    {
      "cell_type": "code",
      "source": [
        "def hand_jacobian(t,n,w,R,J):\n",
        "\n",
        "    WRJ = np.dot(np.dot(w,R), J)\n",
        "    O  = np.zeros((2,2))\n",
        "    HJR1 = np.concatenate([WRJ,O],axis=1)\n",
        "    return HJR1\n",
        "\n",
        "HJR1 = hand_jacobian(t,n,w,R,J)\n",
        "print(HJR1)\n"
      ],
      "metadata": {
        "colab": {
          "base_uri": "https://localhost:8080/"
        },
        "id": "A7KT6-MAzQeR",
        "outputId": "e9412206-fb8c-4f01-dc12-5bea2513f0c9"
      },
      "execution_count": 16,
      "outputs": [
        {
          "output_type": "stream",
          "name": "stdout",
          "text": [
            "[[-0.433      0.4330127  0.         0.       ]\n",
            " [ 0.749978   0.25       0.         0.       ]]\n"
          ]
        }
      ]
    },
    {
      "cell_type": "code",
      "source": [
        "t = np.array([0, 1])\n",
        "n = np.array([-1, 0])\n",
        "theta = 0\n",
        "theta1 = 120*(np.pi/180)\n",
        "theta2 = np.pi/6\n",
        "l1 = 0.866\n",
        "l2 = 0.5\n",
        "w= W(t, n)\n",
        "R= rotation_matrix_2d(theta)\n",
        "J = jacobian(l1,l2,theta1,theta2)\n",
        "print(w)\n",
        "\n",
        "print(R)\n",
        "\n",
        "print(J)"
      ],
      "metadata": {
        "colab": {
          "base_uri": "https://localhost:8080/"
        },
        "id": "4zFBL-ml0Ix8",
        "outputId": "4e2ed61e-4dc8-44a0-b99c-cb6fbbe41a01"
      },
      "execution_count": 17,
      "outputs": [
        {
          "output_type": "stream",
          "name": "stdout",
          "text": [
            "[[ 0 -1]\n",
            " [ 1  0]]\n",
            "[[ 1. -0.]\n",
            " [ 0.  1.]]\n",
            "[[-0.749978  -0.25     ]\n",
            " [-0.433      0.4330127]]\n"
          ]
        }
      ]
    },
    {
      "cell_type": "code",
      "source": [
        "def hand_jacobian(t1,n1,w,R,J):\n",
        "\n",
        "    WRJ = np.dot(np.dot(w,R), J)\n",
        "    O  = np.zeros((2,2))\n",
        "    HJR2 = np.concatenate([O,WRJ], axis = 1)\n",
        "    return HJR2\n",
        "\n",
        "HJR2 = hand_jacobian(t,n,w,R,J)\n",
        "print(HJR2)"
      ],
      "metadata": {
        "colab": {
          "base_uri": "https://localhost:8080/"
        },
        "id": "PpbvFW3-vJd-",
        "outputId": "db963c08-ebfb-47dd-9d8b-2dc094493448"
      },
      "execution_count": 18,
      "outputs": [
        {
          "output_type": "stream",
          "name": "stdout",
          "text": [
            "[[ 0.         0.         0.433     -0.4330127]\n",
            " [ 0.         0.        -0.749978  -0.25     ]]\n"
          ]
        }
      ]
    },
    {
      "cell_type": "code",
      "source": [
        "Hand_jacobian = np.concatenate([HJR1,HJR2])\n",
        "print(Hand_jacobian)"
      ],
      "metadata": {
        "colab": {
          "base_uri": "https://localhost:8080/"
        },
        "id": "2Lh_7vkOalTe",
        "outputId": "edad0f68-8ea9-472f-c952-bf25901ffb10"
      },
      "execution_count": 19,
      "outputs": [
        {
          "output_type": "stream",
          "name": "stdout",
          "text": [
            "[[-0.433      0.4330127  0.         0.       ]\n",
            " [ 0.749978   0.25       0.         0.       ]\n",
            " [ 0.         0.         0.433     -0.4330127]\n",
            " [ 0.         0.        -0.749978  -0.25     ]]\n"
          ]
        }
      ]
    },
    {
      "cell_type": "markdown",
      "source": [
        "**Hand jacobian on the corner points of ellipse.**"
      ],
      "metadata": {
        "id": "YTpLSwERzhu5"
      }
    },
    {
      "cell_type": "code",
      "source": [
        "# Define ellipse\n",
        "h, k = 0, 0  # Center of the ellipse\n",
        "a, b = 2, 1  # Semi-major and semi-minor axis lengths\n",
        "\n",
        "# Generate corner points of the ellipse\n",
        "corner_points = [\n",
        "    (h + a, k),\n",
        "    (h - a, k),\n",
        "    (h, k + b),\n",
        "    (h, k - b)\n",
        "]\n"
      ],
      "metadata": {
        "id": "0ubXnbKEteU9"
      },
      "execution_count": 24,
      "outputs": []
    },
    {
      "cell_type": "code",
      "source": [
        "def New_Hand_jacobian(Hand_jacobian,dx,dy):\n",
        "  translation_matrix = np.array([[1,0,0,dx],\n",
        "                                 [0,1,0,dy],\n",
        "                                 [0,0,1,0],\n",
        "                                 [0,0,0,1]])\n",
        "  New_Hand_jacobian_matrix = np.dot(translation_matrix,Hand_jacobian)\n",
        "  return  New_Hand_jacobian_matrix"
      ],
      "metadata": {
        "id": "X1ErLkeLugaP"
      },
      "execution_count": 25,
      "outputs": []
    },
    {
      "cell_type": "code",
      "source": [
        "for point in corner_points:\n",
        "  dx,dy = point\n",
        "  New_Hand_jacobian_matrix = New_Hand_jacobian(Hand_jacobian,dx,dy)\n",
        "  print(\"Matrix at corner point ({}, {}):\\n{}\".format(dx, dy, New_Hand_jacobian_matrix ))\n",
        "  print()"
      ],
      "metadata": {
        "colab": {
          "base_uri": "https://localhost:8080/"
        },
        "id": "1NPwzJwd05t4",
        "outputId": "e732bcbe-a010-42f1-82bb-ef81daceb474"
      },
      "execution_count": 29,
      "outputs": [
        {
          "output_type": "stream",
          "name": "stdout",
          "text": [
            "Matrix at corner point (2, 0):\n",
            "[[-0.433      0.4330127 -1.499956  -0.5      ]\n",
            " [ 0.749978   0.25       0.         0.       ]\n",
            " [ 0.         0.         0.433     -0.4330127]\n",
            " [ 0.         0.        -0.749978  -0.25     ]]\n",
            "Matrix at corner point (-2, 0):\n",
            "[[-0.433      0.4330127  1.499956   0.5      ]\n",
            " [ 0.749978   0.25       0.         0.       ]\n",
            " [ 0.         0.         0.433     -0.4330127]\n",
            " [ 0.         0.        -0.749978  -0.25     ]]\n",
            "Matrix at corner point (0, 1):\n",
            "[[-0.433      0.4330127  0.         0.       ]\n",
            " [ 0.749978   0.25      -0.749978  -0.25     ]\n",
            " [ 0.         0.         0.433     -0.4330127]\n",
            " [ 0.         0.        -0.749978  -0.25     ]]\n",
            "Matrix at corner point (0, -1):\n",
            "[[-0.433      0.4330127  0.         0.       ]\n",
            " [ 0.749978   0.25       0.749978   0.25     ]\n",
            " [ 0.         0.         0.433     -0.4330127]\n",
            " [ 0.         0.        -0.749978  -0.25     ]]\n",
            "\n"
          ]
        }
      ]
    },
    {
      "cell_type": "code",
      "source": [],
      "metadata": {
        "id": "IuwhzVgxxvDv"
      },
      "execution_count": null,
      "outputs": []
    }
  ]
}