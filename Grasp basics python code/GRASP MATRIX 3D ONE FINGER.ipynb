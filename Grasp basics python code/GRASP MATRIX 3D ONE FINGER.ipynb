{
  "nbformat": 4,
  "nbformat_minor": 0,
  "metadata": {
    "colab": {
      "provenance": []
    },
    "kernelspec": {
      "name": "python3",
      "display_name": "Python 3"
    },
    "language_info": {
      "name": "python"
    }
  },
  "cells": [
    {
      "cell_type": "markdown",
      "source": [
        "**GRASP MATRIX FOR 1 FINGER 3D**\n"
      ],
      "metadata": {
        "id": "FKVoAnyGIxQs"
      }
    },
    {
      "cell_type": "code",
      "source": [
        "import numpy as np\n"
      ],
      "metadata": {
        "id": "6WMl-WRyJc54"
      },
      "execution_count": 68,
      "outputs": []
    },
    {
      "cell_type": "code",
      "source": [
        "def force_vec(s,t,n):\n",
        "  z = np.column_stack([s,t,n])\n",
        "  return z\n",
        "\n",
        "s = np.array([1, 0, 0])\n",
        "t = np.array([0, 0, -1])\n",
        "n = np.array([0, 1, 0])\n",
        "z=  force_vec(s,t,n)\n",
        "print(z)"
      ],
      "metadata": {
        "colab": {
          "base_uri": "https://localhost:8080/"
        },
        "id": "jRj1AWN_HZZ3",
        "outputId": "24fd47d8-b46a-49f1-aec5-d0f74fd43886"
      },
      "execution_count": 69,
      "outputs": [
        {
          "output_type": "stream",
          "name": "stdout",
          "text": [
            "[[ 1  0  0]\n",
            " [ 0  0  1]\n",
            " [ 0 -1  0]]\n"
          ]
        }
      ]
    },
    {
      "cell_type": "code",
      "source": [
        "#define function to calculate cross product\n",
        "def cross_prod(x,s):\n",
        "    A = [x[1]*s[2] - x[2]*x[1],\n",
        "            x[2]*s[0] - x[0]*s[2],\n",
        "            x[0]*s[1] - x[1]*s[0]]\n",
        "    p = np.transpose(A)\n",
        "    return p\n",
        "def cross_prod(x,t):\n",
        "    A = [x[1]*t[2] - x[2]*t[1],\n",
        "            x[2]*t[0] - x[0]*t[2],\n",
        "            x[0]*t[1] - x[1]*t[0]]\n",
        "    q = np.transpose(A)\n",
        "    return q\n",
        "def cross_prod(x,n):\n",
        "    A = [x[1]*n[2] - x[2]*n[1],\n",
        "            x[2]*n[0] - x[0]*n[2],\n",
        "            x[0]*n[1] - x[1]*n[0]]\n",
        "    r = np.transpose(A)\n",
        "    return r\n",
        "\n",
        "# test\n",
        "s = np.array([1, 0, 0])\n",
        "t = np.array([0, 0, -1])\n",
        "n = np.array([0, 1, 0])\n",
        "x = np.array([-2, 0, 0])\n",
        "p = cross_prod(x,t)\n",
        "q = cross_prod(x,t)\n",
        "r = cross_prod(x,n)\n",
        "k= np.column_stack([p,q,r])\n",
        "print(k)"
      ],
      "metadata": {
        "colab": {
          "base_uri": "https://localhost:8080/"
        },
        "id": "OMg2JpBs60Z8",
        "outputId": "13a6b1c7-35f1-4a32-b889-8f172a26b0cc"
      },
      "execution_count": 70,
      "outputs": [
        {
          "output_type": "stream",
          "name": "stdout",
          "text": [
            "[[ 0  0  0]\n",
            " [-2 -2  0]\n",
            " [ 0  0 -2]]\n"
          ]
        }
      ]
    },
    {
      "cell_type": "code",
      "source": [
        "G = np.concatenate([z,k])\n",
        "print(G)"
      ],
      "metadata": {
        "colab": {
          "base_uri": "https://localhost:8080/"
        },
        "id": "HrzkhdQ8IW5G",
        "outputId": "5ce87bda-3e27-41b5-a03d-d7806bcd2ce6"
      },
      "execution_count": 71,
      "outputs": [
        {
          "output_type": "stream",
          "name": "stdout",
          "text": [
            "[[ 1  0  0]\n",
            " [ 0  0  1]\n",
            " [ 0 -1  0]\n",
            " [ 0  0  0]\n",
            " [-2 -2  0]\n",
            " [ 0  0 -2]]\n"
          ]
        }
      ]
    },
    {
      "cell_type": "code",
      "source": [
        "H= np.block([G,G])\n",
        "print(H)"
      ],
      "metadata": {
        "colab": {
          "base_uri": "https://localhost:8080/"
        },
        "id": "GuPZe6_l46jG",
        "outputId": "f6e84e70-37a0-45f5-a9c9-05003d57a149"
      },
      "execution_count": 73,
      "outputs": [
        {
          "output_type": "stream",
          "name": "stdout",
          "text": [
            "[[ 1  0  0  1  0  0]\n",
            " [ 0  0  1  0  0  1]\n",
            " [ 0 -1  0  0 -1  0]\n",
            " [ 0  0  0  0  0  0]\n",
            " [-2 -2  0 -2 -2  0]\n",
            " [ 0  0 -2  0  0 -2]]\n"
          ]
        }
      ]
    },
    {
      "cell_type": "code",
      "source": [],
      "metadata": {
        "id": "-Vc_jvXwJu5W"
      },
      "execution_count": null,
      "outputs": []
    }
  ]
}