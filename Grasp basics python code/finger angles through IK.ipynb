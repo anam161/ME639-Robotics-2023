{
  "nbformat": 4,
  "nbformat_minor": 0,
  "metadata": {
    "colab": {
      "provenance": []
    },
    "kernelspec": {
      "name": "python3",
      "display_name": "Python 3"
    },
    "language_info": {
      "name": "python"
    }
  },
  "cells": [
    {
      "cell_type": "code",
      "source": [
        "import numpy as np"
      ],
      "metadata": {
        "id": "eb2N8swyxQCB"
      },
      "execution_count": 3,
      "outputs": []
    },
    {
      "cell_type": "code",
      "execution_count": 14,
      "metadata": {
        "id": "hbP_JG4DaqA8"
      },
      "outputs": [],
      "source": [
        "# angles for first finger\n",
        "def elbow_up_inverse_kinematics(x, y, l1, l2):\n",
        "    r_squared = x**2 + y**2\n",
        "    alpha = np.arccos((l1**2 + l2**2 - r_squared)/(2*l1*l2))\n",
        "    theta2 = np. pi- alpha\n",
        "\n",
        "    sai = np.arctan2(l2*np.sin(theta2),(l1+l2*np.cos(theta2)))\n",
        "    theta2s = -theta2\n",
        "    beta = np.arctan2(y,x)\n",
        "    theta1s = beta+ sai\n",
        "    return theta1s, theta2s"
      ]
    },
    {
      "cell_type": "code",
      "source": [
        "# Example usage\n",
        "end_effector_positions = [(-0.5, 1.5),\n",
        "(-0.4755282581475769, 1.3454915028125265),\n",
        "(-0.4045084971874738, 1.2061073738537635),\n",
        "(-0.2938926261462366, 1.0954915028125263),\n",
        "(-0.15450849718747378, 1.0244717418524232),\n",
        "(-9.184850993605148e-17, 1.0),\n",
        "(0.15450849718747361, 1.0244717418524232),\n",
        "(0.29389262614623646, 1.0954915028125263),\n",
        "(0.40450849718747367, 1.2061073738537633),\n",
        "(0.47552825814757677, 1.3454915028125263)]\n",
        "l1 = 1.5\n",
        "l2 = 1"
      ],
      "metadata": {
        "id": "VFaviZuQxx91"
      },
      "execution_count": 15,
      "outputs": []
    },
    {
      "cell_type": "code",
      "source": [
        "for x, y in end_effector_positions:\n",
        "    theta1s, theta2s = elbow_up_inverse_kinematics(x, y, l1, l2)\n",
        "    print(theta1s, theta2s, np.degrees(theta1s), np.degrees(theta2s))"
      ],
      "metadata": {
        "colab": {
          "base_uri": "https://localhost:8080/"
        },
        "id": "bDF-lw_kxxcB",
        "outputId": "dba017c1-cdd0-4a3f-d9ac-2e5c79dae314"
      },
      "execution_count": 16,
      "outputs": [
        {
          "output_type": "stream",
          "name": "stdout",
          "text": [
            "2.551604917017948 -1.8234765819369751 146.19619272995706 -104.47751218592992\n",
            "2.6061306077543263 -1.987237658382705 149.3202846841871 -113.86033071478947\n",
            "2.614735858492477 -2.14586524634296 149.813329233135 -122.94902201925231\n",
            "2.5625114034177647 -2.2843286751900402 146.82108836998339 -130.88239210909998\n",
            "2.4469645287081208 -2.382598013259652 140.2007401131939 -136.512810436033\n",
            "2.2935305746083126 -2.4188584057763776 131.40962210927088 -138.59037789072914\n",
            "2.1475853640438203 -2.382598013259652 123.04757750377736 -136.512810436033\n",
            "2.038305319766837 -2.2843286751900402 116.78629218170344 -130.88239210909998\n",
            "1.9675467449067312 -2.1458652463429604 112.7321244778589 -122.94902201925234\n",
            "1.9266877915182872 -1.9872376583827052 110.3910788933793 -113.86033071478948\n"
          ]
        }
      ]
    },
    {
      "cell_type": "code",
      "source": [
        "# angles for second finger\n",
        "def inverse_kinematics_2R(x, y, L1, L2):\n",
        "    # Calculate theta2\n",
        "    r_squared = x**2 + y**2\n",
        "    cos_theta2 = (r_squared - L1**2 - L2**2) / (2 * L1 * L2)\n",
        "    sin_theta2 = np.sqrt(1 - cos_theta2**2)\n",
        "    theta2 = np.arctan2(sin_theta2, cos_theta2)\n",
        "\n",
        "    # Calculate theta1\n",
        "    theta1 = np.arctan2(y, x) - np.arctan2(L2 * np.sin(theta2), L1 + L2 * np.cos(theta2))\n",
        "\n",
        "    return theta1, theta2\n",
        "# Example usage\n",
        "end_effector_positions = [(0.5, 1.5),\n",
        "(0.47552825814757677, 1.6545084971874737),\n",
        "(0.4045084971874737, 1.7938926261462367),\n",
        "(0.29389262614623657, 1.9045084971874737),\n",
        "(0.15450849718747373, 1.9755282581475768),\n",
        "(3.061616997868383e-17, 2.0),\n",
        "(-0.15450849718747367, 1.9755282581475768),\n",
        "(-0.2938926261462365, 1.9045084971874737),\n",
        "(-0.40450849718747367, 1.7938926261462367),\n",
        "(-0.47552825814757677, 1.6545084971874737)]\n",
        "l1 = 1.5\n",
        "l2 = 1"
      ],
      "metadata": {
        "id": "DhLnaQ3EwVVN"
      },
      "execution_count": 10,
      "outputs": []
    },
    {
      "cell_type": "code",
      "source": [
        "for x, y in end_effector_positions:\n",
        "    theta1, theta2 = inverse_kinematics_2R(x, y, l1, l2)\n",
        "    print(theta1, theta2,  np.degrees(theta1), np.degrees(theta2))"
      ],
      "metadata": {
        "colab": {
          "base_uri": "https://localhost:8080/"
        },
        "id": "ouzu4yKqxdHn",
        "outputId": "7f5323b6-1b7b-4f93-aeeb-490697d8abb2"
      },
      "execution_count": 17,
      "outputs": [
        {
          "output_type": "stream",
          "name": "stdout",
          "text": [
            "1.2334888453651298 1.8234765819369754 70.67370491588697 104.47751218592994\n",
            "1.2149048620715064 1.987237658382705 69.60892110662073 113.86033071478947\n",
            "1.1740459086830621 2.14586524634296 67.26787552214111 122.94902201925231\n",
            "1.1032873338229563 2.2843286751900402 63.213707818296555 130.88239210909998\n",
            "0.9940072895459733 2.3825980132596523 56.95242249622267 136.51281043603302\n",
            "0.8480620789814811 2.4188584057763776 48.59037789072915 138.59037789072914\n",
            "0.6946281248816728 2.3825980132596523 39.79925988680614 136.51281043603302\n",
            "0.5790812501720287 2.2843286751900402 33.17891163001662 130.88239210909998\n",
            "0.5268567950973162 2.1458652463429604 30.18667076686502 122.94902201925234\n",
            "0.535462045835467 1.9872376583827052 30.679715315812896 113.86033071478948\n"
          ]
        }
      ]
    },
    {
      "cell_type": "code",
      "source": [],
      "metadata": {
        "id": "0ECN6u-Cxeo2"
      },
      "execution_count": null,
      "outputs": []
    }
  ]
}