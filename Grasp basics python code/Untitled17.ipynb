{
  "nbformat": 4,
  "nbformat_minor": 0,
  "metadata": {
    "colab": {
      "provenance": []
    },
    "kernelspec": {
      "name": "python3",
      "display_name": "Python 3"
    },
    "language_info": {
      "name": "python"
    }
  },
  "cells": [
    {
      "cell_type": "code",
      "source": [
        "import numpy as np\n",
        "import matplotlib.pyplot as plt\n",
        "\n",
        "# lengths of finger 1\n",
        "L1a = 1.5\n",
        "L1b = 1\n",
        "\n",
        "# lengths of finger 2\n",
        "L2a = 1.5\n",
        "L2b = 1\n",
        "\n",
        "# Define joint angles of finger 1\n",
        "theta1a = 2.293530574608312\n",
        "theta1b = -2.4188584057763776\n",
        "\n",
        "# Define joint angles of finger 2\n",
        "theta2a = 1.0654358165107394\n",
        "theta2b = 1.318116071652818\n",
        "\n",
        "# Forward Kinematics to calculate finger1 positions\n",
        "x1a = L1a * np.cos(theta1a)\n",
        "y1a = L1a * np.sin(theta1a)\n",
        "\n",
        "x1b = x1a + L1b * np.cos(theta1a + theta1b)\n",
        "y1b = y1a + L1b * np.sin(theta1a + theta1b)\n",
        "\n",
        "# Forward Kinematics to calculate finger2 positions\n",
        "x2a = L1a * np.cos(theta2a)\n",
        "y2a = L1a * np.sin(theta2a)\n",
        "\n",
        "x2b = x2a + L1b * np.cos(theta2a + theta2b)\n",
        "y2b = y2a + L1b * np.sin(theta2a + theta2b)\n",
        "\n",
        "# Plotting\n",
        "plt.figure(figsize=(8, 8))\n",
        "\n",
        "# Plot finger1 links\n",
        "plt.plot([0, x1a], [0, y1a], 'r-', lw=5)  #first link of finger1          [0, x1] and [0, y1] represent the x and y coordinates of the line's endpoints respectively.\n",
        "                                                                          #red ('r') and solid ('-'). lw=2 sets the line width to 2 for better visibility\n",
        "plt.plot([x1a, x1b], [y1a, y1b], 'r-', lw=5)  #second link of finger1\n",
        "\n",
        "# Plot finger2 links\n",
        "plt.plot([0, x2a], [0, y2a], 'r-', lw=5)  #first link of finger2\n",
        "plt.plot([x2a, x2b], [y2a, y2b], 'r-', lw=5)  #second link of finger2\n",
        "\n",
        "# Plot first fingers\n",
        "plt.plot(0, 0, 'ro', markersize=10)  # Base of gripper || red ('r') circle ('o') at the origin (0, 0)\n",
        "plt.plot(x1a, y1a, 'bo', markersize=8)  # Joint 1 || blue ('b') circle ('o') at the origin (0, 0)\n",
        "plt.plot(x1b, y1b, 'bo', markersize=7)  # Joint 2\n",
        "\n",
        "# Plot second fingers\n",
        "plt.plot(0, 0, 'ro', markersize=10)  # Base of gripper\n",
        "plt.plot(x2a, y2a, 'bo', markersize=8)  # Joint 1\n",
        "plt.plot(x2b, y2b, 'bo', markersize=7)  # Joint 2\n",
        "\n",
        "# Define object parameters\n",
        "object_position = np.array([0, 1.5])  # Object position\n",
        "object_radius = 0.5  # Object radius\n",
        "\n",
        "# Plot object\n",
        "circle = plt.Circle((object_position[0], object_position[1]), object_radius, color='g', alpha=1)\n",
        "plt.gca().add_patch(circle)\n",
        "\n",
        "# Plot object position\n",
        "plt.plot(object_position[0], object_position[1], 'rx', markersize=5)\n",
        "\n",
        "# Set plot limits and aspect\n",
        "plt.xlim(-3, 5)\n",
        "plt.ylim(-2, 5)\n",
        "plt.gca().set_aspect('equal', adjustable='box')\n",
        "\n",
        "# Labels and legend\n",
        "plt.title('2D 2R Gripper Grasping Object')\n",
        "plt.xlabel('X')\n",
        "plt.ylabel('Y')\n",
        "# plt.legend(['Link 1a', 'Link 1b','Link 2a', 'Link 2b','Object', 'Object Position'])\n",
        "\n",
        "plt.grid(True)\n",
        "plt.show()\n"
      ],
      "metadata": {
        "colab": {
          "base_uri": "https://localhost:8080/",
          "height": 587
        },
        "id": "jNAPU00t5As4",
        "outputId": "4a395479-e5d3-4e43-eab2-36000054544b"
      },
      "execution_count": 4,
      "outputs": [
        {
          "output_type": "display_data",
          "data": {
            "text/plain": [
              "<Figure size 800x800 with 1 Axes>"
            ],
            "image/png": "[encoded data removed]"
          },
          "metadata": {}
        }
      ]
    },
    {
      "cell_type": "code",
      "source": [
        "def elbow_up_inverse_kinematics(x, y, l1, l2):\n",
        "    r_squared = x**2 + y**2\n",
        "    alpha = np.arccos((l1**2 + l2**2 - r_squared)/(2*l1*l2))\n",
        "    theta2 = np. pi- alpha\n",
        "\n",
        "    sai = np.arctan2(l2*np.sin(theta2),(l1+l2*np.cos(theta2)))\n",
        "    theta2s = -theta2\n",
        "    beta = np.arctan2(y,x)\n",
        "    theta1s = beta+ sai\n",
        "    return theta1s, theta2s"
      ],
      "metadata": {
        "id": "n58tgLR5rPea"
      },
      "execution_count": 5,
      "outputs": []
    },
    {
      "cell_type": "code",
      "source": [
        "x = 0  # desired x-coordinate of end-effector\n",
        "y = 1  # desired y-coordinate of end-effector\n",
        "l1 = 1.5  # length of the first link\n",
        "l2 = 1  # length of the second link"
      ],
      "metadata": {
        "id": "ttCDsNmdrPUP"
      },
      "execution_count": 6,
      "outputs": []
    },
    {
      "cell_type": "code",
      "source": [
        "theta1s, theta2s = elbow_up_inverse_kinematics(x, y, l1, l2)\n",
        "print(theta1s, theta2s, np.degrees(theta1s), np.degrees(theta2s))"
      ],
      "metadata": {
        "colab": {
          "base_uri": "https://localhost:8080/"
        },
        "id": "SiIMgVULrPHi",
        "outputId": "c961d3e1-de17-433f-f97a-58e01554d416"
      },
      "execution_count": 7,
      "outputs": [
        {
          "output_type": "stream",
          "name": "stdout",
          "text": [
            "2.293530574608312 -2.4188584057763776 131.40962210927086 -138.59037789072914\n"
          ]
        }
      ]
    },
    {
      "cell_type": "code",
      "source": [
        "import numpy as np\n",
        "\n",
        "def inverse_kinematics_2R(x, y, L1, L2):\n",
        "    # Calculate theta2\n",
        "    r_squared = x**2 + y**2\n",
        "    cos_theta2 = (r_squared - L1**2 - L2**2) / (2 * L1 * L2)\n",
        "    sin_theta2 = np.sqrt(1 - cos_theta2**2)\n",
        "    theta2 = np.arctan2(sin_theta2, cos_theta2)\n",
        "\n",
        "    # Calculate theta1\n",
        "    theta1 = np.arctan2(y, x) - np.arctan2(L2 * np.sin(theta2), L1 + L2 * np.cos(theta2))\n",
        "\n",
        "    return theta1, theta2"
      ],
      "metadata": {
        "id": "UGsdGpbbCixK"
      },
      "execution_count": 8,
      "outputs": []
    },
    {
      "cell_type": "code",
      "source": [
        "# Example usage\n",
        "x = 0  # desired x-coordinate of end-effector\n",
        "y = 2  # desired y-coordinate of end-effector\n",
        "L1 = 1.5  # length of the first link\n",
        "L2 = 1  # length of the second link\n",
        "\n",
        "theta1, theta2 = inverse_kinematics_2R(x, y, L1, L2)\n",
        "print(theta1, theta2, np.degrees(theta1), np.degrees(theta2))"
      ],
      "metadata": {
        "colab": {
          "base_uri": "https://localhost:8080/"
        },
        "id": "fODlnuxxCfoU",
        "outputId": "7796b76a-c0c6-43ed-d63c-162a4c09b8bd"
      },
      "execution_count": 9,
      "outputs": [
        {
          "output_type": "stream",
          "name": "stdout",
          "text": [
            "1.0654358165107394 1.318116071652818 61.04497562814016 75.52248781407008\n"
          ]
        }
      ]
    },
    {
      "cell_type": "code",
      "source": [
        "def grasp_matrix(t1, n1, x1):\n",
        "\n",
        "    t1 = np.atleast_2d(t1).T\n",
        "    n1 = np.atleast_2d(n1).T\n",
        "    x1 = np.atleast_2d(x1).T\n",
        "\n",
        "    G = np.block([[t1, n1], [np.cross(x1.T, t1.T).T, np.cross(x1.T, n1.T).T]])\n",
        "    return G\n",
        "\n"
      ],
      "metadata": {
        "id": "YjwgdzdKDUYj"
      },
      "execution_count": 10,
      "outputs": []
    },
    {
      "cell_type": "code",
      "source": [
        "# Test\n",
        "t1 = np.array([0, -1])\n",
        "n1 = np.array([1, 0])\n",
        "x1 = np.array([-0.5, 0])\n",
        "\n",
        "G1 = grasp_matrix(t1, n1, x1)\n",
        "print(G1)"
      ],
      "metadata": {
        "colab": {
          "base_uri": "https://localhost:8080/"
        },
        "id": "t5ct8WUWDt89",
        "outputId": "58820be4-c055-44ec-bff6-75f21dc1b805"
      },
      "execution_count": 12,
      "outputs": [
        {
          "output_type": "stream",
          "name": "stdout",
          "text": [
            "[[ 0.   1. ]\n",
            " [-1.   0. ]\n",
            " [ 0.5 -0. ]]\n"
          ]
        }
      ]
    },
    {
      "cell_type": "code",
      "source": [
        "# Test\n",
        "t1 = np.array([0, 1])\n",
        "n1 = np.array([-1, 0])\n",
        "x1 = np.array([-0.5, 0])\n",
        "\n",
        "G2 = grasp_matrix(t1, n1, x1)\n",
        "print(G2)"
      ],
      "metadata": {
        "colab": {
          "base_uri": "https://localhost:8080/"
        },
        "id": "2wIDpQ0dQioi",
        "outputId": "b754570a-f6a4-481c-fbf4-cfdbbce177b3"
      },
      "execution_count": 13,
      "outputs": [
        {
          "output_type": "stream",
          "name": "stdout",
          "text": [
            "[[ 0.  -1. ]\n",
            " [ 1.   0. ]\n",
            " [-0.5  0. ]]\n"
          ]
        }
      ]
    },
    {
      "cell_type": "code",
      "source": [
        "\n",
        "G = np.column_stack([G1,G2])"
      ],
      "metadata": {
        "id": "zd1RreHkQoWl"
      },
      "execution_count": 14,
      "outputs": []
    },
    {
      "cell_type": "code",
      "source": [
        "\n",
        "print(G)"
      ],
      "metadata": {
        "colab": {
          "base_uri": "https://localhost:8080/"
        },
        "id": "wwzUneb9Rekx",
        "outputId": "38644fd6-9739-4c24-90da-37f698cd3dfd"
      },
      "execution_count": 15,
      "outputs": [
        {
          "output_type": "stream",
          "name": "stdout",
          "text": [
            "[[ 0.   1.   0.  -1. ]\n",
            " [-1.   0.   1.   0. ]\n",
            " [ 0.5 -0.  -0.5  0. ]]\n"
          ]
        }
      ]
    },
    {
      "cell_type": "code",
      "source": [
        "G = G[0:2,0:]\n",
        "print(G)"
      ],
      "metadata": {
        "colab": {
          "base_uri": "https://localhost:8080/"
        },
        "id": "m-e86g-VOgdE",
        "outputId": "cb7ecf39-a4ec-4a1d-8321-e24146711dbe"
      },
      "execution_count": 18,
      "outputs": [
        {
          "output_type": "stream",
          "name": "stdout",
          "text": [
            "[[ 0.  1.  0. -1.]\n",
            " [-1.  0.  1.  0.]]\n"
          ]
        }
      ]
    },
    {
      "cell_type": "code",
      "source": [
        "import numpy as np\n",
        "def W(t, n):\n",
        "    t = np.atleast_2d(t).T\n",
        "    n = np.atleast_2d(n).T\n",
        "    w  = np.block([t,n])\n",
        "    return w\n",
        "\n",
        "\n",
        "def rotation_matrix_2d(theta):\n",
        "    R = np.array([[np.cos(theta), -np.sin(theta)],\n",
        "                  [np.sin(theta), np.cos(theta)]])\n",
        "    return R\n",
        "\n",
        "def jacobian(l1,l2,theta1,theta2):\n",
        "    J = np.array([[-l1*np.sin(theta1), -l2*np.sin(theta2)],\n",
        "                  [l1*np.cos(theta1), l2*np.cos(theta2)]])\n",
        "    return J\n",
        "\n",
        "\n",
        "\n",
        "# test first finger\n",
        "t = np.array([0, -1])\n",
        "n = np.array([1, 0])\n",
        "theta = 0\n",
        "theta1 = 2.293530574608312\n",
        "theta2 = -2.4188584057763776\n",
        "l1 = 1.5\n",
        "l2 = 1\n",
        "w= W(t, n)\n",
        "R= rotation_matrix_2d(theta)\n",
        "J = jacobian(l1,l2,theta1,theta2)\n",
        "print(w)\n",
        "\n",
        "print(R)\n",
        "\n",
        "print(J)"
      ],
      "metadata": {
        "colab": {
          "base_uri": "https://localhost:8080/"
        },
        "id": "dnuPxWxBRrAW",
        "outputId": "dc0b3694-59bc-4732-b228-529957951a61"
      },
      "execution_count": 17,
      "outputs": [
        {
          "output_type": "stream",
          "name": "stdout",
          "text": [
            "[[ 0  1]\n",
            " [-1  0]]\n",
            "[[ 1. -0.]\n",
            " [ 0.  1.]]\n",
            "[[-1.125       0.66143783]\n",
            " [-0.99215674 -0.75      ]]\n"
          ]
        }
      ]
    },
    {
      "cell_type": "code",
      "source": [
        "def hand_jacobian(t,n,w,R,J):\n",
        "\n",
        "    WRJ = np.dot(np.dot(w,R), J)\n",
        "    O  = np.zeros((2,2))\n",
        "    HJR1 = np.concatenate([WRJ,O],axis=1)\n",
        "    return HJR1\n",
        "\n",
        "HJR1 = hand_jacobian(t,n,w,R,J)\n",
        "print(HJR1)\n"
      ],
      "metadata": {
        "colab": {
          "base_uri": "https://localhost:8080/"
        },
        "id": "9bCh2ibIfa2h",
        "outputId": "db318014-cd4b-4dce-cb47-2f2e83296ab9"
      },
      "execution_count": 41,
      "outputs": [
        {
          "output_type": "stream",
          "name": "stdout",
          "text": [
            "[[-0.99215674 -0.75        0.          0.        ]\n",
            " [ 1.125      -0.66143783  0.          0.        ]]\n"
          ]
        }
      ]
    },
    {
      "cell_type": "code",
      "source": [
        "#second finger\n",
        "t = np.array([0, 1])\n",
        "n = np.array([-1, 0])\n",
        "theta = 0\n",
        "theta1 = 1.0654358165107394\n",
        "theta2 = 1.318116071652818\n",
        "l1 = 1.5\n",
        "l2 = 1\n",
        "w= W(t, n)\n",
        "R= rotation_matrix_2d(theta)\n",
        "J = jacobian(l1,l2,theta1,theta2)\n",
        "print(w)\n",
        "\n",
        "print(R)\n",
        "\n",
        "print(J)"
      ],
      "metadata": {
        "colab": {
          "base_uri": "https://localhost:8080/"
        },
        "id": "eVG-WzR6fgXD",
        "outputId": "18e13e0c-1ae8-4eab-8339-6546d5246657"
      },
      "execution_count": 42,
      "outputs": [
        {
          "output_type": "stream",
          "name": "stdout",
          "text": [
            "[[ 0 -1]\n",
            " [ 1  0]]\n",
            "[[ 1. -0.]\n",
            " [ 0.  1.]]\n",
            "[[-1.3125     -0.96824584]\n",
            " [ 0.72618438  0.25      ]]\n"
          ]
        }
      ]
    },
    {
      "cell_type": "code",
      "source": [
        "def hand_jacobian(t1,n1,w,R,J):\n",
        "\n",
        "    WRJ = np.dot(np.dot(w,R), J)\n",
        "    O  = np.zeros((2,2))\n",
        "    HJR2 = np.concatenate([O,WRJ], axis = 1)\n",
        "    return HJR2\n",
        "\n",
        "HJR2 = hand_jacobian(t,n,w,R,J)\n",
        "print(HJR2)"
      ],
      "metadata": {
        "colab": {
          "base_uri": "https://localhost:8080/"
        },
        "id": "LMf_G1DXfjTd",
        "outputId": "751f5bdb-3798-4ca4-9bb7-952590a7eed7"
      },
      "execution_count": 43,
      "outputs": [
        {
          "output_type": "stream",
          "name": "stdout",
          "text": [
            "[[ 0.          0.         -0.72618438 -0.25      ]\n",
            " [ 0.          0.         -1.3125     -0.96824584]]\n"
          ]
        }
      ]
    },
    {
      "cell_type": "code",
      "source": [
        "Hand_jacobian = np.concatenate([HJR1,HJR2])\n",
        "print(Hand_jacobian)"
      ],
      "metadata": {
        "colab": {
          "base_uri": "https://localhost:8080/"
        },
        "id": "RpmhqdKUfliw",
        "outputId": "0a29fa38-9f08-47b4-807c-9423cb856831"
      },
      "execution_count": 44,
      "outputs": [
        {
          "output_type": "stream",
          "name": "stdout",
          "text": [
            "[[-0.99215674 -0.75        0.          0.        ]\n",
            " [ 1.125      -0.66143783  0.          0.        ]\n",
            " [ 0.          0.         -0.72618438 -0.25      ]\n",
            " [ 0.          0.         -1.3125     -0.96824584]]\n"
          ]
        }
      ]
    },
    {
      "cell_type": "code",
      "source": [
        "def manipulability_index(G, Hand_jacobian):\n",
        "   GT = np.transpose(G)\n",
        "   print(G)\n",
        "   GI = np.linalg.inv(G@GT)\n",
        "   GP = np.dot(GT,GI)\n",
        "   GPT = np.transpose(GP)\n",
        "   A = np.dot(GPT,Hand_jacobian)\n",
        "   AT = np.transpose(A)\n",
        "   mu = np.sqrt(np.linalg.det(A@AT))\n",
        "   return mu"
      ],
      "metadata": {
        "id": "AP4LORh8i3p1"
      },
      "execution_count": 45,
      "outputs": []
    },
    {
      "cell_type": "code",
      "source": [
        "mu = manipulability_index(G,  Hand_jacobian)\n",
        "print(mu)"
      ],
      "metadata": {
        "colab": {
          "base_uri": "https://localhost:8080/"
        },
        "id": "7upsltWMp-aM",
        "outputId": "0560d5b5-2cb4-4029-b340-de5d6050dd60"
      },
      "execution_count": 46,
      "outputs": [
        {
          "output_type": "stream",
          "name": "stdout",
          "text": [
            "[[ 0.  1.  0. -1.]\n",
            " [-1.  0.  1.  0.]]\n",
            "0.7496827365339401\n"
          ]
        }
      ]
    },
    {
      "cell_type": "code",
      "source": [
        "import math\n",
        "\n",
        "def calculate_circle_points(radius, num_points, center):\n",
        "    circle_points = []\n",
        "    for i in range(num_points):\n",
        "        angle = 2 * math.pi * i / num_points\n",
        "        x = center[0] + radius * math.cos(angle)\n",
        "        y = center[1] + radius * math.sin(angle)\n",
        "        circle_points.append((x, y))\n",
        "    return circle_points\n",
        "\n",
        "radius = 0.5  # Change the radius as needed\n",
        "num_points = 20  # Number of points on the circle\n",
        "center = (0, 1.5)  # Center of the circle\n",
        "\n",
        "points = calculate_circle_points(radius, num_points, center)\n",
        "print(\"Corner points of the circle:\")\n",
        "for point in points:\n",
        "    print(point)\n",
        "\n",
        "# Finger positions\n",
        "finger1 = points[0]  # First finger at the first point\n",
        "finger2 = points[num_points // 2]  # Second finger at the opposite point\n",
        "\n",
        "# Plotting the circle\n",
        "circle = plt.Circle(center, radius, color='blue', fill=False)\n",
        "fig, ax = plt.subplots()\n",
        "ax.add_artist(circle)\n",
        "\n",
        "# Plotting the points\n",
        "x_vals, y_vals = zip(*points)\n",
        "plt.scatter(x_vals, y_vals, color='red', label='Corner Points')\n",
        "\n",
        "# Plotting the fingers\n",
        "plt.scatter(*finger1, color='green', label='Finger 1')\n",
        "plt.scatter(*finger2, color='orange', label='Finger 2')\n",
        "\n",
        "# Setting aspect ratio as equal\n",
        "plt.axis('equal')\n",
        "\n",
        "# Adding labels and legend\n",
        "plt.xlabel('X')\n",
        "plt.ylabel('Y')\n",
        "plt.title('Circle with Fingers')\n",
        "plt.legend()\n"
      ],
      "metadata": {
        "colab": {
          "base_uri": "https://localhost:8080/",
          "height": 854
        },
        "id": "KHSLXyE4qNRp",
        "outputId": "6707069f-7c4c-4650-a14a-d0ff9e550b56"
      },
      "execution_count": 49,
      "outputs": [
        {
          "output_type": "stream",
          "name": "stdout",
          "text": [
            "Corner points of the circle:\n",
            "(0.5, 1.5)\n",
            "(0.47552825814757677, 1.6545084971874737)\n",
            "(0.4045084971874737, 1.7938926261462367)\n",
            "(0.29389262614623657, 1.9045084971874737)\n",
            "(0.15450849718747373, 1.9755282581475768)\n",
            "(3.061616997868383e-17, 2.0)\n",
            "(-0.15450849718747367, 1.9755282581475768)\n",
            "(-0.2938926261462365, 1.9045084971874737)\n",
            "(-0.40450849718747367, 1.7938926261462367)\n",
            "(-0.47552825814757677, 1.6545084971874737)\n",
            "(-0.5, 1.5)\n",
            "(-0.4755282581475769, 1.3454915028125265)\n",
            "(-0.4045084971874738, 1.2061073738537635)\n",
            "(-0.2938926261462366, 1.0954915028125263)\n",
            "(-0.15450849718747378, 1.0244717418524232)\n",
            "(-9.184850993605148e-17, 1.0)\n",
            "(0.15450849718747361, 1.0244717418524232)\n",
            "(0.29389262614623646, 1.0954915028125263)\n",
            "(0.40450849718747367, 1.2061073738537633)\n",
            "(0.47552825814757677, 1.3454915028125263)\n"
          ]
        },
        {
          "output_type": "execute_result",
          "data": {
            "text/plain": [
              "<matplotlib.legend.Legend at 0x7a7e7c929a80>"
            ]
          },
          "metadata": {},
          "execution_count": 49
        },
        {
          "output_type": "display_data",
          "data": {
            "text/plain": [
              "<Figure size 640x480 with 1 Axes>"
            ],
            "image/png": "[encoded data removed]"
          },
          "metadata": {}
        }
      ]
    },
    {
      "cell_type": "code",
      "source": [],
      "metadata": {
        "id": "okNDFUaXFwQb"
      },
      "execution_count": null,
      "outputs": []
    }
  ]
}