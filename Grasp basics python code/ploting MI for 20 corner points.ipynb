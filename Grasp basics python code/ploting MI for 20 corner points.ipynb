{
  "nbformat": 4,
  "nbformat_minor": 0,
  "metadata": {
    "colab": {
      "provenance": []
    },
    "kernelspec": {
      "name": "python3",
      "display_name": "Python 3"
    },
    "language_info": {
      "name": "python"
    }
  },
  "cells": [
    {
      "cell_type": "code",
      "execution_count": 22,
      "metadata": {
        "colab": {
          "base_uri": "https://localhost:8080/"
        },
        "id": "GSDfFpjMcv23",
        "outputId": "23a13bef-ea91-45c0-eb42-0424f4554a1c"
      },
      "outputs": [
        {
          "output_type": "stream",
          "name": "stdout",
          "text": [
            "[[ 0  1]\n",
            " [-1  0]]\n",
            "[[ 1. -0.]\n",
            " [ 0.  1.]]\n",
            "[[-0.749978  -0.25     ]\n",
            " [-0.433      0.4330127]]\n"
          ]
        }
      ],
      "source": [
        "import numpy as np\n",
        "def W(t, n):\n",
        "    t = np.atleast_2d(t).T\n",
        "    n = np.atleast_2d(n).T\n",
        "    w  = np.block([t,n])\n",
        "    return w\n",
        "\n",
        "def rotation_matrix_2d(theta):\n",
        "    R = np.array([[np.cos(theta), -np.sin(theta)],\n",
        "                  [np.sin(theta), np.cos(theta)]])\n",
        "    return R\n",
        "\n",
        "def jacobian(l1,l2,theta1,theta2):\n",
        "    J = np.array([[-l1*np.sin(theta1), -l2*np.sin(theta2)],\n",
        "                  [l1*np.cos(theta1), l2*np.cos(theta2)]])\n",
        "    return J\n",
        "\n",
        "\n",
        "\n",
        "# test\n",
        "t = np.array([0, -1])\n",
        "n = np.array([1, 0])\n",
        "theta = 0\n",
        "theta1 = 120*(np.pi/180)\n",
        "theta2 = np.pi/6\n",
        "l1 = 0.866\n",
        "l2 = 0.5\n",
        "w= W(t, n)\n",
        "R= rotation_matrix_2d(theta)\n",
        "J = jacobian(l1,l2,theta1,theta2)\n",
        "print(w)\n",
        "\n",
        "print(R)\n",
        "\n",
        "print(J)"
      ]
    },
    {
      "cell_type": "code",
      "source": [
        "def hand_jacobian(t,n,w,R,J):\n",
        "\n",
        "    WRJ = np.dot(np.dot(w,R), J)\n",
        "    O  = np.zeros((2,2))\n",
        "    HJR1 = np.concatenate([WRJ,O],axis=1)\n",
        "    return HJR1\n",
        "\n",
        "HJR1 = hand_jacobian(t,n,w,R,J)\n",
        "print(HJR1)\n"
      ],
      "metadata": {
        "colab": {
          "base_uri": "https://localhost:8080/"
        },
        "id": "fOkTfqf1cxrP",
        "outputId": "f3002b47-e30d-4bcc-d71d-f6ebf0f6e078"
      },
      "execution_count": 23,
      "outputs": [
        {
          "output_type": "stream",
          "name": "stdout",
          "text": [
            "[[-0.433      0.4330127  0.         0.       ]\n",
            " [ 0.749978   0.25       0.         0.       ]]\n"
          ]
        }
      ]
    },
    {
      "cell_type": "code",
      "source": [
        "t = np.array([0, 1])\n",
        "n = np.array([-1, 0])\n",
        "theta = 0\n",
        "theta1 = 120*(np.pi/180)\n",
        "theta2 = np.pi/6\n",
        "l1 = 0.866\n",
        "l2 = 0.5\n",
        "w= W(t, n)\n",
        "R= rotation_matrix_2d(theta)\n",
        "J = jacobian(l1,l2,theta1,theta2)\n",
        "print(w)\n",
        "\n",
        "print(R)\n",
        "\n",
        "print(J)"
      ],
      "metadata": {
        "colab": {
          "base_uri": "https://localhost:8080/"
        },
        "id": "jrr9Ro4ec2KD",
        "outputId": "8030002e-3504-440f-f46b-6fb327f5693b"
      },
      "execution_count": 24,
      "outputs": [
        {
          "output_type": "stream",
          "name": "stdout",
          "text": [
            "[[ 0 -1]\n",
            " [ 1  0]]\n",
            "[[ 1. -0.]\n",
            " [ 0.  1.]]\n",
            "[[-0.749978  -0.25     ]\n",
            " [-0.433      0.4330127]]\n"
          ]
        }
      ]
    },
    {
      "cell_type": "code",
      "source": [
        "def hand_jacobian(t1,n1,w,R,J):\n",
        "\n",
        "    WRJ = np.dot(np.dot(w,R), J)\n",
        "    O  = np.zeros((2,2))\n",
        "    HJR2 = np.concatenate([O,WRJ], axis = 1)\n",
        "    return HJR2\n",
        "\n",
        "HJR2 = hand_jacobian(t,n,w,R,J)\n",
        "print(HJR2)"
      ],
      "metadata": {
        "colab": {
          "base_uri": "https://localhost:8080/"
        },
        "id": "g0u_qLyVc5Ed",
        "outputId": "edb0971f-9ec4-41c6-cc6e-26d1a2ab3d21"
      },
      "execution_count": 25,
      "outputs": [
        {
          "output_type": "stream",
          "name": "stdout",
          "text": [
            "[[ 0.         0.         0.433     -0.4330127]\n",
            " [ 0.         0.        -0.749978  -0.25     ]]\n"
          ]
        }
      ]
    },
    {
      "cell_type": "code",
      "source": [
        "Hand_jacobian = np.concatenate([HJR1,HJR2])\n",
        "print(Hand_jacobian)"
      ],
      "metadata": {
        "colab": {
          "base_uri": "https://localhost:8080/"
        },
        "id": "7bamjrG5c5uV",
        "outputId": "287007e9-3a47-4e67-8f84-654c22bf9d59"
      },
      "execution_count": 26,
      "outputs": [
        {
          "output_type": "stream",
          "name": "stdout",
          "text": [
            "[[-0.433      0.4330127  0.         0.       ]\n",
            " [ 0.749978   0.25       0.         0.       ]\n",
            " [ 0.         0.         0.433     -0.4330127]\n",
            " [ 0.         0.        -0.749978  -0.25     ]]\n"
          ]
        }
      ]
    },
    {
      "cell_type": "code",
      "source": [
        "# Define ellipse\n",
        "h, k = 0, 0  # Center of the ellipse\n",
        "a, b = 2, 1  # Semi-major and semi-minor axis lengths\n"
      ],
      "metadata": {
        "id": "hnCsrqHxc88i"
      },
      "execution_count": 27,
      "outputs": []
    },
    {
      "cell_type": "code",
      "source": [
        "def New_Hand_jacobian(Hand_jacobian,dx,dy):\n",
        "  translation_matrix = np.array([[1,0,0,dx],\n",
        "                                 [0,1,0,dy],\n",
        "                                 [0,0,1,0],\n",
        "                                 [0,0,0,1]])\n",
        "  New_Hand_jacobian_matrix = np.dot(translation_matrix,Hand_jacobian)\n",
        "  return  New_Hand_jacobian_matrix"
      ],
      "metadata": {
        "id": "qaQNPG9MdAWC"
      },
      "execution_count": 28,
      "outputs": []
    },
    {
      "cell_type": "code",
      "source": [
        "# calculate value of theta for 20 points\n",
        "corner_points = 20\n",
        "\n",
        "# Calculate theta values\n",
        "theta_values = np.linspace(0, 2*np.pi, corner_points, endpoint=False)  #syntax of this code {np.linspace(start, stop, num=50, endpoint=True, retstep=False, dtype=None, axis=0)}\n",
        "\n",
        "# Print the theta values\n",
        "points = []\n",
        "for theta in theta_values:\n",
        "    x = h + a * np.cos(theta)\n",
        "    y = k + b * np.sin(theta)\n",
        "    points.append((x, y))\n",
        "for point in points:\n",
        "  print(point)"
      ],
      "metadata": {
        "colab": {
          "base_uri": "https://localhost:8080/"
        },
        "id": "njE9hRLBdCXc",
        "outputId": "fcb1d5c1-0d1f-48fe-8bd8-d8a0626f36c8"
      },
      "execution_count": 29,
      "outputs": [
        {
          "output_type": "stream",
          "name": "stdout",
          "text": [
            "(2.0, 0.0)\n",
            "(1.902113032590307, 0.3090169943749474)\n",
            "(1.618033988749895, 0.5877852522924731)\n",
            "(1.1755705045849463, 0.8090169943749475)\n",
            "(0.6180339887498949, 0.9510565162951535)\n",
            "(1.2246467991473532e-16, 1.0)\n",
            "(-0.6180339887498947, 0.9510565162951536)\n",
            "(-1.175570504584946, 0.8090169943749475)\n",
            "(-1.6180339887498947, 0.5877852522924732)\n",
            "(-1.902113032590307, 0.3090169943749475)\n",
            "(-2.0, 1.2246467991473532e-16)\n",
            "(-1.9021130325903073, -0.3090169943749473)\n",
            "(-1.6180339887498951, -0.587785252292473)\n",
            "(-1.1755705045849465, -0.8090169943749473)\n",
            "(-0.6180339887498951, -0.9510565162951535)\n",
            "(-3.6739403974420594e-16, -1.0)\n",
            "(0.6180339887498945, -0.9510565162951536)\n",
            "(1.1755705045849458, -0.8090169943749476)\n",
            "(1.6180339887498947, -0.5877852522924734)\n",
            "(1.902113032590307, -0.3090169943749476)\n"
          ]
        }
      ]
    },
    {
      "cell_type": "code",
      "source": [
        "corner_points = [\n",
        "    (2.0, 0.0),\n",
        "(1.902113032590307, 0.3090169943749474),\n",
        "(1.618033988749895, 0.5877852522924731),\n",
        "(1.1755705045849463, 0.8090169943749475),\n",
        "(0.6180339887498949, 0.9510565162951535),\n",
        "(1.2246467991473532e-16, 1.0),\n",
        "(-0.6180339887498947, 0.9510565162951536),\n",
        "(-1.175570504584946, 0.8090169943749475),\n",
        "(-1.6180339887498947, 0.5877852522924732),\n",
        "(-1.902113032590307, 0.3090169943749475),\n",
        "(-2.0, 1.2246467991473532e-16),\n",
        "(-1.9021130325903073, -0.3090169943749473),\n",
        "(-1.6180339887498951, -0.587785252292473),\n",
        "(-1.1755705045849465, -0.8090169943749473),\n",
        "(-0.6180339887498951, -0.9510565162951535),\n",
        "(-3.6739403974420594e-16, -1.0),\n",
        "(0.6180339887498945, -0.9510565162951536),\n",
        "(1.1755705045849458, -0.8090169943749476),\n",
        "(1.6180339887498947, -0.5877852522924734),\n",
        "(1.902113032590307, -0.3090169943749476),\n",
        "                  ]"
      ],
      "metadata": {
        "id": "eE7ZgzqJdFzi"
      },
      "execution_count": 30,
      "outputs": []
    },
    {
      "cell_type": "code",
      "source": [
        "for point in corner_points:\n",
        "  dx,dy = point\n",
        "  New_Hand_jacobian_matrix = New_Hand_jacobian(Hand_jacobian,dx,dy)\n",
        "  print(\"Matrix at corner point ({}, {}):\\n{}\".format(dx, dy, New_Hand_jacobian_matrix ))\n",
        "  print()"
      ],
      "metadata": {
        "colab": {
          "base_uri": "https://localhost:8080/"
        },
        "id": "NI8BPCj5dJpg",
        "outputId": "df86def4-fa86-4bc3-adfb-1b51a6a4cc83"
      },
      "execution_count": 31,
      "outputs": [
        {
          "output_type": "stream",
          "name": "stdout",
          "text": [
            "Matrix at corner point (2.0, 0.0):\n",
            "[[-0.433      0.4330127 -1.499956  -0.5      ]\n",
            " [ 0.749978   0.25       0.         0.       ]\n",
            " [ 0.         0.         0.433     -0.4330127]\n",
            " [ 0.         0.        -0.749978  -0.25     ]]\n",
            "\n",
            "Matrix at corner point (1.902113032590307, 0.3090169943749474):\n",
            "[[-0.433       0.4330127  -1.42654293 -0.47552826]\n",
            " [ 0.749978    0.25       -0.23175595 -0.07725425]\n",
            " [ 0.          0.          0.433      -0.4330127 ]\n",
            " [ 0.          0.         -0.749978   -0.25      ]]\n",
            "\n",
            "Matrix at corner point (1.618033988749895, 0.5877852522924731):\n",
            "[[-0.433       0.4330127  -1.21348989 -0.4045085 ]\n",
            " [ 0.749978    0.25       -0.44082601 -0.14694631]\n",
            " [ 0.          0.          0.433      -0.4330127 ]\n",
            " [ 0.          0.         -0.749978   -0.25      ]]\n",
            "\n",
            "Matrix at corner point (1.1755705045849463, 0.8090169943749475):\n",
            "[[-0.433       0.4330127  -0.88165202 -0.29389263]\n",
            " [ 0.749978    0.25       -0.60674495 -0.20225425]\n",
            " [ 0.          0.          0.433      -0.4330127 ]\n",
            " [ 0.          0.         -0.749978   -0.25      ]]\n",
            "\n",
            "Matrix at corner point (0.6180339887498949, 0.9510565162951535):\n",
            "[[-0.433       0.4330127  -0.46351189 -0.1545085 ]\n",
            " [ 0.749978    0.25       -0.71327146 -0.23776413]\n",
            " [ 0.          0.          0.433      -0.4330127 ]\n",
            " [ 0.          0.         -0.749978   -0.25      ]]\n",
            "\n",
            "Matrix at corner point (1.2246467991473532e-16, 1.0):\n",
            "[[-4.33000000e-01  4.33012702e-01 -9.18458157e-17 -3.06161700e-17]\n",
            " [ 7.49978000e-01  2.50000000e-01 -7.49978000e-01 -2.50000000e-01]\n",
            " [ 0.00000000e+00  0.00000000e+00  4.33000000e-01 -4.33012702e-01]\n",
            " [ 0.00000000e+00  0.00000000e+00 -7.49978000e-01 -2.50000000e-01]]\n",
            "\n",
            "Matrix at corner point (-0.6180339887498947, 0.9510565162951536):\n",
            "[[-0.433       0.4330127   0.46351189  0.1545085 ]\n",
            " [ 0.749978    0.25       -0.71327146 -0.23776413]\n",
            " [ 0.          0.          0.433      -0.4330127 ]\n",
            " [ 0.          0.         -0.749978   -0.25      ]]\n",
            "\n",
            "Matrix at corner point (-1.175570504584946, 0.8090169943749475):\n",
            "[[-0.433       0.4330127   0.88165202  0.29389263]\n",
            " [ 0.749978    0.25       -0.60674495 -0.20225425]\n",
            " [ 0.          0.          0.433      -0.4330127 ]\n",
            " [ 0.          0.         -0.749978   -0.25      ]]\n",
            "\n",
            "Matrix at corner point (-1.6180339887498947, 0.5877852522924732):\n",
            "[[-0.433       0.4330127   1.21348989  0.4045085 ]\n",
            " [ 0.749978    0.25       -0.44082601 -0.14694631]\n",
            " [ 0.          0.          0.433      -0.4330127 ]\n",
            " [ 0.          0.         -0.749978   -0.25      ]]\n",
            "\n",
            "Matrix at corner point (-1.902113032590307, 0.3090169943749475):\n",
            "[[-0.433       0.4330127   1.42654293  0.47552826]\n",
            " [ 0.749978    0.25       -0.23175595 -0.07725425]\n",
            " [ 0.          0.          0.433      -0.4330127 ]\n",
            " [ 0.          0.         -0.749978   -0.25      ]]\n",
            "\n",
            "Matrix at corner point (-2.0, 1.2246467991473532e-16):\n",
            "[[-4.33000000e-01  4.33012702e-01  1.49995600e+00  5.00000000e-01]\n",
            " [ 7.49978000e-01  2.50000000e-01 -9.18458157e-17 -3.06161700e-17]\n",
            " [ 0.00000000e+00  0.00000000e+00  4.33000000e-01 -4.33012702e-01]\n",
            " [ 0.00000000e+00  0.00000000e+00 -7.49978000e-01 -2.50000000e-01]]\n",
            "\n",
            "Matrix at corner point (-1.9021130325903073, -0.3090169943749473):\n",
            "[[-0.433       0.4330127   1.42654293  0.47552826]\n",
            " [ 0.749978    0.25        0.23175595  0.07725425]\n",
            " [ 0.          0.          0.433      -0.4330127 ]\n",
            " [ 0.          0.         -0.749978   -0.25      ]]\n",
            "\n",
            "Matrix at corner point (-1.6180339887498951, -0.587785252292473):\n",
            "[[-0.433       0.4330127   1.21348989  0.4045085 ]\n",
            " [ 0.749978    0.25        0.44082601  0.14694631]\n",
            " [ 0.          0.          0.433      -0.4330127 ]\n",
            " [ 0.          0.         -0.749978   -0.25      ]]\n",
            "\n",
            "Matrix at corner point (-1.1755705045849465, -0.8090169943749473):\n",
            "[[-0.433       0.4330127   0.88165202  0.29389263]\n",
            " [ 0.749978    0.25        0.60674495  0.20225425]\n",
            " [ 0.          0.          0.433      -0.4330127 ]\n",
            " [ 0.          0.         -0.749978   -0.25      ]]\n",
            "\n",
            "Matrix at corner point (-0.6180339887498951, -0.9510565162951535):\n",
            "[[-0.433       0.4330127   0.46351189  0.1545085 ]\n",
            " [ 0.749978    0.25        0.71327146  0.23776413]\n",
            " [ 0.          0.          0.433      -0.4330127 ]\n",
            " [ 0.          0.         -0.749978   -0.25      ]]\n",
            "\n",
            "Matrix at corner point (-3.6739403974420594e-16, -1.0):\n",
            "[[-4.33000000e-01  4.33012702e-01  2.75537447e-16  9.18485099e-17]\n",
            " [ 7.49978000e-01  2.50000000e-01  7.49978000e-01  2.50000000e-01]\n",
            " [ 0.00000000e+00  0.00000000e+00  4.33000000e-01 -4.33012702e-01]\n",
            " [ 0.00000000e+00  0.00000000e+00 -7.49978000e-01 -2.50000000e-01]]\n",
            "\n",
            "Matrix at corner point (0.6180339887498945, -0.9510565162951536):\n",
            "[[-0.433       0.4330127  -0.46351189 -0.1545085 ]\n",
            " [ 0.749978    0.25        0.71327146  0.23776413]\n",
            " [ 0.          0.          0.433      -0.4330127 ]\n",
            " [ 0.          0.         -0.749978   -0.25      ]]\n",
            "\n",
            "Matrix at corner point (1.1755705045849458, -0.8090169943749476):\n",
            "[[-0.433       0.4330127  -0.88165202 -0.29389263]\n",
            " [ 0.749978    0.25        0.60674495  0.20225425]\n",
            " [ 0.          0.          0.433      -0.4330127 ]\n",
            " [ 0.          0.         -0.749978   -0.25      ]]\n",
            "\n",
            "Matrix at corner point (1.6180339887498947, -0.5877852522924734):\n",
            "[[-0.433       0.4330127  -1.21348989 -0.4045085 ]\n",
            " [ 0.749978    0.25        0.44082601  0.14694631]\n",
            " [ 0.          0.          0.433      -0.4330127 ]\n",
            " [ 0.          0.         -0.749978   -0.25      ]]\n",
            "\n",
            "Matrix at corner point (1.902113032590307, -0.3090169943749476):\n",
            "[[-0.433       0.4330127  -1.42654293 -0.47552826]\n",
            " [ 0.749978    0.25        0.23175595  0.07725425]\n",
            " [ 0.          0.          0.433      -0.4330127 ]\n",
            " [ 0.          0.         -0.749978   -0.25      ]]\n",
            "\n"
          ]
        }
      ]
    },
    {
      "cell_type": "code",
      "source": [
        "corner_points_hand_jacobians = [\n",
        "    np.array([\n",
        "        [-0.433, 0.4330127, -1.499956, -0.5],\n",
        "        [0.749978, 0.25, 0.0, 0.0],\n",
        "        [0.0, 0.0, 0.433, -0.4330127],\n",
        "        [0.0, 0.0, -0.749978, -0.25]\n",
        "    ]),\n",
        "    np.array([\n",
        "        [-0.433, 0.4330127, -1.42654293, -0.47552826],\n",
        "        [0.749978, 0.25, -0.23175595, -0.07725425],\n",
        "        [0.0, 0.0, 0.433, -0.4330127],\n",
        "        [0.0, 0.0, -0.749978, -0.25]\n",
        "    ]),\n",
        "    np.array([\n",
        "        [-0.433, 0.4330127, -1.21348989, -0.4045085],\n",
        "        [0.749978, 0.25, -0.44082601, -0.14694631],\n",
        "        [0.0, 0.0, 0.433, -0.4330127],\n",
        "        [0.0, 0.0, -0.749978, -0.25]\n",
        "    ]),\n",
        "    np.array([\n",
        "        [-0.433, 0.4330127, -0.88165202, -0.29389263],\n",
        "        [0.749978, 0.25, -0.60674495, -0.20225425],\n",
        "        [0.0, 0.0, 0.433, -0.4330127],\n",
        "        [0.0, 0.0, -0.749978, -0.25]\n",
        "    ]),\n",
        "    np.array([\n",
        "        [-0.433, 0.4330127, -0.46351189, -0.1545085],\n",
        "        [0.749978, 0.25, -0.71327146, -0.23776413],\n",
        "        [0.0, 0.0, 0.433, -0.4330127],\n",
        "        [0.0, 0.0, -0.749978, -0.25]\n",
        "    ]),\n",
        "    np.array([\n",
        "        [-0.433, 0.4330127, -9.18458157e-17, -3.06161700e-17],\n",
        "        [0.749978, 0.25, -7.49978000e-01, -2.50000000e-01],\n",
        "        [0.0, 0.0, 0.433, -0.4330127],\n",
        "        [0.0, 0.0, -0.749978, -0.25]\n",
        "    ]),\n",
        "    np.array([\n",
        "        [-0.433, 0.4330127, 0.46351189, 0.1545085],\n",
        "        [0.749978, 0.25, -0.71327146, -0.23776413],\n",
        "        [0.0, 0.0, 0.433, -0.4330127],\n",
        "        [0.0, 0.0, -0.749978, -0.25]\n",
        "    ]),\n",
        "    np.array([\n",
        "        [-0.433, 0.4330127, 0.88165202, 0.29389263],\n",
        "        [0.749978, 0.25, -0.60674495, -0.20225425],\n",
        "        [0.0, 0.0, 0.433, -0.4330127],\n",
        "        [0.0, 0.0, -0.749978, -0.25]\n",
        "    ]),\n",
        "    np.array([\n",
        "        [-0.433, 0.4330127, 1.21348989, 0.4045085],\n",
        "        [0.749978, 0.25, -0.44082601, -0.14694631],\n",
        "        [0.0, 0.0, 0.433, -0.4330127],\n",
        "        [0.0, 0.0, -0.749978, -0.25]\n",
        "    ]),\n",
        "    np.array([\n",
        "        [-0.433, 0.4330127, 1.42654293, 0.47552826],\n",
        "        [0.749978, 0.25, -0.23175595, -0.07725425],\n",
        "        [0.0, 0.0, 0.433, -0.4330127],\n",
        "        [0.0, 0.0, -0.749978, -0.25]\n",
        "    ]),\n",
        "    np.array([\n",
        "        [-0.433, 0.4330127, 1.499956, 0.5],\n",
        "        [0.749978, 0.25, 0.0, 0.0],\n",
        "        [0.0, 0.0, 0.433, -0.4330127],\n",
        "        [0.0, 0.0, -0.749978, -0.25]\n",
        "    ]),\n",
        "    np.array([\n",
        "        [-0.433, 0.4330127, 1.42654293, -0.47552826],\n",
        "        [0.749978, 0.25, 0.23175595, 0.07725425],\n",
        "        [0.0, 0.0, 0.433, -0.4330127],\n",
        "        [0.0, 0.0, -0.749978, -0.25]\n",
        "    ]),\n",
        "    np.array([\n",
        "        [-0.433, 0.4330127, 1.21348989, -0.4045085],\n",
        "        [0.749978, 0.25, 0.44082601, 0.14694631],\n",
        "        [0.0, 0.0, 0.433, -0.4330127],\n",
        "        [0.0, 0.0, -0.749978, -0.25]\n",
        "    ]),\n",
        "    np.array([\n",
        "        [-0.433, 0.4330127, 0.88165202, -0.29389263],\n",
        "        [0.749978, 0.25, 0.60674495, 0.20225425],\n",
        "        [0.0, 0.0, 0.433, -0.4330127],\n",
        "        [0.0, 0.0, -0.749978, -0.25]\n",
        "    ]),\n",
        "    np.array([\n",
        "        [-0.433, 0.4330127, 0.46351189, -0.1545085],\n",
        "        [0.749978, 0.25, 0.71327146, 0.23776413],\n",
        "        [0.0, 0.0, 0.433, -0.4330127],\n",
        "        [0.0, 0.0, -0.749978, -0.25]\n",
        "    ]),\n",
        "    np.array([\n",
        "        [-0.433, 0.4330127, -9.18458157e-17, 3.06161700e-17],\n",
        "        [0.749978, 0.25, 7.49978000e-01, 2.50000000e-01],\n",
        "        [0.0, 0.0, 0.433, -0.4330127],\n",
        "        [0.0, 0.0, -0.749978, -0.25]\n",
        "    ]),\n",
        "    np.array([\n",
        "        [-0.433, 0.4330127, -0.46351189, -0.1545085],\n",
        "        [0.749978, 0.25, 0.71327146, 0.23776413],\n",
        "        [0.0, 0.0, 0.433, -0.4330127],\n",
        "        [0.0, 0.0, -0.749978, -0.25]\n",
        "    ]),\n",
        "    np.array([\n",
        "        [-0.433, 0.4330127, -0.88165202, -0.29389263],\n",
        "        [0.749978, 0.25, 0.60674495, 0.20225425],\n",
        "        [0.0, 0.0, 0.433, -0.4330127],\n",
        "        [0.0, 0.0, -0.749978, -0.25]\n",
        "    ]),\n",
        "    np.array([\n",
        "        [-0.433, 0.4330127, -1.21348989, -0.4045085],\n",
        "        [0.749978, 0.25, 0.44082601, 0.14694631],\n",
        "        [0.0, 0.0, 0.433, -0.4330127],\n",
        "        [0.0, 0.0, -0.749978, -0.25]\n",
        "    ]),\n",
        "    np.array([\n",
        "        [-0.433, 0.4330127, -1.42654293, -0.47552826],\n",
        "        [0.749978, 0.25, 0.23175595, 0.07725425],\n",
        "        [0.0, 0.0, 0.433, -0.4330127],\n",
        "        [0.0, 0.0, -0.749978, -0.25]\n",
        "    ])\n",
        "]"
      ],
      "metadata": {
        "id": "qjv2vbr5bOhz"
      },
      "execution_count": 32,
      "outputs": []
    },
    {
      "cell_type": "code",
      "source": [
        "G = np.array([[ 0,  1,  0, -1],\n",
        "             [-1,  0,  1,  0],\n",
        "             [ 2,  0,  2,  0]])  # Example Grasp Matrix"
      ],
      "metadata": {
        "id": "zXEZziy_dqAI"
      },
      "execution_count": 33,
      "outputs": []
    },
    {
      "cell_type": "code",
      "source": [
        "# function for manipulability\n",
        "def manipulability_index(G, J_h):\n",
        "   GT = np.transpose(G)\n",
        "   GI = np.linalg.inv(np.dot(G,GT))\n",
        "   GP = np.dot(GT,GI)\n",
        "   GPT = np.transpose(GP)\n",
        "   A = np.dot(GPT,J_h)\n",
        "   AT = np.transpose(A)\n",
        "   mu = np.sqrt(np.linalg.det(A@AT))\n",
        "   return mu"
      ],
      "metadata": {
        "id": "ZM-zLIMjdMrN"
      },
      "execution_count": 36,
      "outputs": []
    },
    {
      "cell_type": "code",
      "source": [
        "# Calculate manipulability index for each Hand Jacobian matrix at each corner point\n",
        "manipulability_indices = []\n",
        "for J_h in corner_points_hand_jacobians:\n",
        "    mu = manipulability_index(G, J_h)\n",
        "    manipulability_indices.append(mu)"
      ],
      "metadata": {
        "id": "KFIsEcJzepYG"
      },
      "execution_count": 37,
      "outputs": []
    },
    {
      "cell_type": "code",
      "source": [
        "# Print manipulability indices for each Hand Jacobian matrix at each corner point\n",
        "for i, mu in enumerate(manipulability_indices):\n",
        "    print(\"Manipulability Index at corner point {}: {}\".format(i+1, mu))"
      ],
      "metadata": {
        "colab": {
          "base_uri": "https://localhost:8080/"
        },
        "id": "-YVOfx9Teu3Z",
        "outputId": "82951329-ccd1-4185-e4cb-d915de400126"
      },
      "execution_count": 21,
      "outputs": [
        {
          "output_type": "stream",
          "name": "stdout",
          "text": [
            "Manipulability Index at corner point 1: 0.08356831271783652\n",
            "Manipulability Index at corner point 2: 0.08111731674844554\n",
            "Manipulability Index at corner point 3: 0.07233554724838918\n",
            "Manipulability Index at corner point 4: 0.058172185337687615\n",
            "Manipulability Index at corner point 5: 0.04197764454277601\n",
            "Manipulability Index at corner point 6: 0.03314417178646546\n",
            "Manipulability Index at corner point 7: 0.042881907536886296\n",
            "Manipulability Index at corner point 8: 0.06287728403699148\n",
            "Manipulability Index at corner point 9: 0.08321314585843383\n",
            "Manipulability Index at corner point 10: 0.09957018195812524\n",
            "Manipulability Index at corner point 11: 0.1098056749935998\n",
            "Manipulability Index at corner point 12: 0.07884178113033159\n",
            "Manipulability Index at corner point 13: 0.08182692539707219\n",
            "Manipulability Index at corner point 14: 0.08169944100245842\n",
            "Manipulability Index at corner point 15: 0.0788657853297628\n",
            "Manipulability Index at corner point 16: 0.07411262117246743\n",
            "Manipulability Index at corner point 17: 0.06670908405467572\n",
            "Manipulability Index at corner point 18: 0.06727770376270861\n",
            "Manipulability Index at corner point 19: 0.07350233631965682\n",
            "Manipulability Index at corner point 20: 0.08029186695793718\n"
          ]
        }
      ]
    },
    {
      "cell_type": "code",
      "source": [
        "# Define corner points with x, y coordinates and manipulability indices\n",
        "corner_points = [\n",
        "    (2.0, 0.0, 0.08356831271783652),\n",
        "    (1.902113032590307, 0.3090169943749474, 0.08111731674844554),\n",
        "    (1.618033988749895, 0.5877852522924731,0.07233554724838918),\n",
        "    (1.1755705045849463, 0.8090169943749475,  0.058172185337687615),\n",
        "    (0.6180339887498949, 0.9510565162951535,  0.04197764454277601),\n",
        "    (1.2246467991473532e-16, 1.0,  0.03314417178646546),\n",
        "    (-0.6180339887498947, 0.9510565162951536,  0.042881907536886296),\n",
        "    (-1.175570504584946, 0.8090169943749475,  0.06287728403699148),\n",
        "    (-1.6180339887498947, 0.5877852522924732,  0.08321314585843383),\n",
        "    (-1.902113032590307, 0.3090169943749475, 0.09957018195812524),\n",
        "    (-2.0, 1.2246467991473532e-16, 0.1098056749935998),\n",
        "    (-1.9021130325903073, -0.3090169943749473,  0.07884178113033159),\n",
        "    (-1.6180339887498951, -0.587785252292473,  0.08182692539707219),\n",
        "    (-1.1755705045849465, -0.8090169943749473, 0.08169944100245842),\n",
        "    (-0.6180339887498951, -0.9510565162951535,  0.0788657853297628),\n",
        "    (-3.6739403974420594e-16, -1.0, 0.07411262117246743),\n",
        "    (0.6180339887498945, -0.9510565162951536, 0.06670908405467572),\n",
        "    (1.1755705045849458, -0.8090169943749476,0.06727770376270861),\n",
        "    (1.6180339887498947, -0.5877852522924734, 0.07350233631965682),\n",
        "    (1.902113032590307, -0.3090169943749476,  0.08029186695793718)\n",
        "]\n"
      ],
      "metadata": {
        "id": "51VG5X28gb_L"
      },
      "execution_count": 45,
      "outputs": []
    },
    {
      "cell_type": "code",
      "source": [
        "# Extract x, y coordinates and manipulability indices\n",
        "x = [point[0] for point in corner_points]\n",
        "y = [point[1] for point in corner_points]\n",
        "manipulability_indices = [point[2] for point in corner_points]"
      ],
      "metadata": {
        "id": "tD2k5paukt7A"
      },
      "execution_count": 46,
      "outputs": []
    },
    {
      "cell_type": "code",
      "source": [
        "import matplotlib.pyplot as plt\n"
      ],
      "metadata": {
        "id": "YKirrNUfk66B"
      },
      "execution_count": 48,
      "outputs": []
    },
    {
      "cell_type": "code",
      "source": [
        "# Create scatter plot\n",
        "plt.figure(figsize=(8, 6))\n",
        "plt.scatter(x, y, c=manipulability_indices, cmap='viridis', s=100, edgecolors='black')\n",
        "plt.colorbar(label='Manipulability Index')\n",
        "plt.xlabel('X')\n",
        "plt.ylabel('Y')\n",
        "plt.title('Manipulability Index at Corner Points of Ellipse')\n",
        "plt.grid(True)\n",
        "plt.tight_layout()\n",
        "plt.show()"
      ],
      "metadata": {
        "colab": {
          "base_uri": "https://localhost:8080/",
          "height": 607
        },
        "id": "tB29iSdxkw86",
        "outputId": "f310a79a-348e-4249-888e-2d664fedcad8"
      },
      "execution_count": 49,
      "outputs": [
        {
          "output_type": "display_data",
          "data": {
            "text/plain": [
              "<Figure size 800x600 with 2 Axes>"
            ],
            "image/png": "[encoded data removed]"
          },
          "metadata": {}
        }
      ]
    },
    {
      "cell_type": "code",
      "source": [],
      "metadata": {
        "id": "mba6N2WGdnlR"
      },
      "execution_count": null,
      "outputs": []
    },
    {
      "cell_type": "code",
      "source": [],
      "metadata": {
        "id": "WsRkL91AYzbH"
      },
      "execution_count": null,
      "outputs": []
    },
    {
      "cell_type": "code",
      "source": [],
      "metadata": {
        "id": "uVf8EFScayM9"
      },
      "execution_count": null,
      "outputs": []
    }
  ]
}