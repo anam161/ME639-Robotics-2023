{
  "nbformat": 4,
  "nbformat_minor": 0,
  "metadata": {
    "colab": {
      "provenance": []
    },
    "kernelspec": {
      "name": "python3",
      "display_name": "Python 3"
    },
    "language_info": {
      "name": "python"
    }
  },
  "cells": [
    {
      "cell_type": "code",
      "source": [
        "import numpy as np\n",
        "def fk_3R(q1, q2, q3, l1, l2, l3):\n",
        "\n",
        "    x = l1 * np.cos(q1) + l2 * np.cos(q1 + q2)+ l3*np.cos(q1+q2+q3)\n",
        "    y = l1 * np.sin(q1) + l2 * np.sin(q1 + q2)+l3*np.sin(q1+q2+q3)\n",
        "    return x, y\n",
        "\n",
        "l1=2\n",
        "l2=3\n",
        "l3=2\n",
        "q1 = -0.46985977300849435\n",
        "q2 = 2.0569181767041136\n",
        "q3 = -0.5398608524990216\n",
        "x,y = fk_3R(q1, q2, q3, l1, l2, l3)\n",
        "print(x,y)\n"
      ],
      "metadata": {
        "colab": {
          "base_uri": "https://localhost:8080/"
        },
        "id": "IUsSRrad-fTt",
        "outputId": "2a2532e8-c5f1-43af-9e2c-882ee4dee2c4"
      },
      "execution_count": 8,
      "outputs": [
        {
          "output_type": "stream",
          "name": "stdout",
          "text": [
            "2.73447949218573 3.8261316156171516\n"
          ]
        }
      ]
    },
    {
      "cell_type": "code",
      "source": [
        "import numpy as np\n",
        "def ik(l1,l2,l3,x2,y2,x,y,sai):\n",
        "    x1 = x - l3*np.cos(sai)\n",
        "    y1 =y - l3*np.sin(sai)\n",
        "    P02= x1**2 + y1**2\n",
        "    q2 = np.arccos((P02 - l1**2-l2**2)/(2*l1*l2))\n",
        "\n",
        "    q1 = np.arctan(x2/y2) - np.arctan((l2*np.sin(q2))/(l2+l2*np.cos(q2)))\n",
        "    q3 = sai - (q1+q2)\n",
        "    return q1,q2,q3\n",
        "print(q1, q2, q3)"
      ],
      "metadata": {
        "colab": {
          "base_uri": "https://localhost:8080/"
        },
        "id": "RfCecGtO-sA1",
        "outputId": "8b774894-c2cd-40a8-ea71-c3fc489d5372"
      },
      "execution_count": 9,
      "outputs": [
        {
          "output_type": "stream",
          "name": "stdout",
          "text": [
            "-0.46985977300849435 2.0569181767041136 -0.5398608524990216\n"
          ]
        }
      ]
    },
    {
      "cell_type": "code",
      "source": [],
      "metadata": {
        "id": "O_RqQxWE-3NM"
      },
      "execution_count": null,
      "outputs": []
    }
  ]
}