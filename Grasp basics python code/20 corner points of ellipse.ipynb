{
  "nbformat": 4,
  "nbformat_minor": 0,
  "metadata": {
    "colab": {
      "provenance": []
    },
    "kernelspec": {
      "name": "python3",
      "display_name": "Python 3"
    },
    "language_info": {
      "name": "python"
    }
  },
  "cells": [
    {
      "cell_type": "markdown",
      "source": [
        "**HAND JACOBIAN FOR 2R**"
      ],
      "metadata": {
        "id": "WpGgBqvC7l6_"
      }
    },
    {
      "cell_type": "code",
      "source": [
        "import numpy as np\n",
        "def W(t, n):\n",
        "    t = np.atleast_2d(t).T\n",
        "    n = np.atleast_2d(n).T\n",
        "    w  = np.block([t,n])\n",
        "    return w\n",
        "\n",
        "def rotation_matrix_2d(theta):\n",
        "    R = np.array([[np.cos(theta), -np.sin(theta)],\n",
        "                  [np.sin(theta), np.cos(theta)]])\n",
        "    return R\n",
        "\n",
        "def jacobian(l1,l2,theta1,theta2):\n",
        "    J = np.array([[-l1*np.sin(theta1), -l2*np.sin(theta2)],\n",
        "                  [l1*np.cos(theta1), l2*np.cos(theta2)]])\n",
        "    return J\n",
        "\n",
        "\n",
        "\n",
        "# test\n",
        "t = np.array([0, -1])\n",
        "n = np.array([1, 0])\n",
        "theta = 0\n",
        "theta1 = 120*(np.pi/180)\n",
        "theta2 = np.pi/6\n",
        "l1 = 0.866\n",
        "l2 = 0.5\n",
        "w= W(t, n)\n",
        "R= rotation_matrix_2d(theta)\n",
        "J = jacobian(l1,l2,theta1,theta2)\n",
        "print(w)\n",
        "\n",
        "print(R)\n",
        "\n",
        "print(J)"
      ],
      "metadata": {
        "id": "_gq0s3KR1wNC"
      },
      "execution_count": null,
      "outputs": []
    },
    {
      "cell_type": "code",
      "source": [
        "def hand_jacobian(t,n,w,R,J):\n",
        "\n",
        "    WRJ = np.dot(np.dot(w,R), J)\n",
        "    O  = np.zeros((2,2))\n",
        "    HJR1 = np.concatenate([WRJ,O],axis=1)\n",
        "    return HJR1\n",
        "\n",
        "HJR1 = hand_jacobian(t,n,w,R,J)\n",
        "print(HJR1)\n"
      ],
      "metadata": {
        "id": "A7KT6-MAzQeR"
      },
      "execution_count": null,
      "outputs": []
    },
    {
      "cell_type": "code",
      "source": [
        "t = np.array([0, 1])\n",
        "n = np.array([-1, 0])\n",
        "theta = 0\n",
        "theta1 = 120*(np.pi/180)\n",
        "theta2 = np.pi/6\n",
        "l1 = 0.866\n",
        "l2 = 0.5\n",
        "w= W(t, n)\n",
        "R= rotation_matrix_2d(theta)\n",
        "J = jacobian(l1,l2,theta1,theta2)\n",
        "print(w)\n",
        "\n",
        "print(R)\n",
        "\n",
        "print(J)"
      ],
      "metadata": {
        "id": "4zFBL-ml0Ix8"
      },
      "execution_count": null,
      "outputs": []
    },
    {
      "cell_type": "code",
      "source": [
        "def hand_jacobian(t1,n1,w,R,J):\n",
        "\n",
        "    WRJ = np.dot(np.dot(w,R), J)\n",
        "    O  = np.zeros((2,2))\n",
        "    HJR2 = np.concatenate([O,WRJ], axis = 1)\n",
        "    return HJR2\n",
        "\n",
        "HJR2 = hand_jacobian(t,n,w,R,J)\n",
        "print(HJR2)"
      ],
      "metadata": {
        "id": "PpbvFW3-vJd-"
      },
      "execution_count": null,
      "outputs": []
    },
    {
      "cell_type": "code",
      "source": [
        "Hand_jacobian = np.concatenate([HJR1,HJR2])\n",
        "print(Hand_jacobian)"
      ],
      "metadata": {
        "id": "2Lh_7vkOalTe"
      },
      "execution_count": null,
      "outputs": []
    },
    {
      "cell_type": "markdown",
      "source": [
        "**Hand jacobian on the corner points of ellipse.**"
      ],
      "metadata": {
        "id": "YTpLSwERzhu5"
      }
    },
    {
      "cell_type": "code",
      "source": [
        "# Define ellipse\n",
        "h, k = 0, 0  # Center of the ellipse\n",
        "a, b = 2, 1  # Semi-major and semi-minor axis lengths\n"
      ],
      "metadata": {
        "id": "0ubXnbKEteU9"
      },
      "execution_count": 30,
      "outputs": []
    },
    {
      "cell_type": "code",
      "source": [
        "def New_Hand_jacobian(Hand_jacobian,dx,dy):\n",
        "  translation_matrix = np.array([[1,0,0,dx],\n",
        "                                 [0,1,0,dy],\n",
        "                                 [0,0,1,0],\n",
        "                                 [0,0,0,1]])\n",
        "  New_Hand_jacobian_matrix = np.dot(translation_matrix,Hand_jacobian)\n",
        "  return  New_Hand_jacobian_matrix"
      ],
      "metadata": {
        "id": "X1ErLkeLugaP"
      },
      "execution_count": 31,
      "outputs": []
    },
    {
      "cell_type": "code",
      "source": [
        "# calculate value of theta for 20 points\n",
        "corner_points = 20\n",
        "\n",
        "# Calculate theta values\n",
        "theta_values = np.linspace(0, 2*np.pi, corner_points, endpoint=False)  #syntax of this code {np.linspace(start, stop, num=50, endpoint=True, retstep=False, dtype=None, axis=0)}\n",
        "\n",
        "# Print the theta values\n",
        "points = []\n",
        "for theta in theta_values:\n",
        "    x = h + a * np.cos(theta)\n",
        "    y = k + b * np.sin(theta)\n",
        "    points.append((x, y))\n",
        "for point in points:\n",
        "  print(point)"
      ],
      "metadata": {
        "id": "AXiOfSFIITOk"
      },
      "execution_count": null,
      "outputs": []
    },
    {
      "cell_type": "code",
      "source": [
        "corner_points = [\n",
        "    (2.0, 0.0),\n",
        "(1.902113032590307, 0.3090169943749474),\n",
        "(1.618033988749895, 0.5877852522924731),\n",
        "(1.1755705045849463, 0.8090169943749475),\n",
        "(0.6180339887498949, 0.9510565162951535),\n",
        "(1.2246467991473532e-16, 1.0),\n",
        "(-0.6180339887498947, 0.9510565162951536),\n",
        "(-1.175570504584946, 0.8090169943749475),\n",
        "(-1.6180339887498947, 0.5877852522924732),\n",
        "(-1.902113032590307, 0.3090169943749475),\n",
        "(-2.0, 1.2246467991473532e-16),\n",
        "(-1.9021130325903073, -0.3090169943749473),\n",
        "(-1.6180339887498951, -0.587785252292473),\n",
        "(-1.1755705045849465, -0.8090169943749473),\n",
        "(-0.6180339887498951, -0.9510565162951535),\n",
        "(-3.6739403974420594e-16, -1.0),\n",
        "(0.6180339887498945, -0.9510565162951536),\n",
        "(1.1755705045849458, -0.8090169943749476),\n",
        "(1.6180339887498947, -0.5877852522924734),\n",
        "(1.902113032590307, -0.3090169943749476),\n",
        "                  ]"
      ],
      "metadata": {
        "id": "MoEke9xLIz4K"
      },
      "execution_count": 34,
      "outputs": []
    },
    {
      "cell_type": "code",
      "source": [
        "for point in corner_points:\n",
        "  dx,dy = point\n",
        "  New_Hand_jacobian_matrix = New_Hand_jacobian(Hand_jacobian,dx,dy)\n",
        "  print(\"Matrix at corner point ({}, {}):\\n{}\".format(dx, dy, New_Hand_jacobian_matrix ))\n",
        "  print()"
      ],
      "metadata": {
        "id": "1NPwzJwd05t4"
      },
      "execution_count": null,
      "outputs": []
    }
  ]
}