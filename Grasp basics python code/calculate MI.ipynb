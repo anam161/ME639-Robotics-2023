{
  "nbformat": 4,
  "nbformat_minor": 0,
  "metadata": {
    "colab": {
      "provenance": []
    },
    "kernelspec": {
      "name": "python3",
      "display_name": "Python 3"
    },
    "language_info": {
      "name": "python"
    }
  },
  "cells": [
    {
      "cell_type": "markdown",
      "source": [
        "**GRASP MATRIX FUNCTION**\n"
      ],
      "metadata": {
        "id": "Vk8298Uu68hg"
      }
    },
    {
      "cell_type": "code",
      "source": [
        "import numpy as np\n"
      ],
      "metadata": {
        "id": "e9b7bKfMowB6"
      },
      "execution_count": 5,
      "outputs": []
    },
    {
      "cell_type": "code",
      "source": [
        "G = np.array([[ 0,  1,  0, -1],\n",
        "             [-1,  0,  1,  0],\n",
        "             [ 2,  0,  2,  0]])  # Example Grasp Matrix\n",
        "J_h = np.array([[-0.433,      0.4330127,  0,         0,       ],\n",
        "                [ 0.749978,   0.25,       0,         0,       ],\n",
        "                [ 0,         0,         0.433,     -0.4330127],\n",
        "                [ 0,         0,        -0.749978,  -0.25     ]])"
      ],
      "metadata": {
        "id": "Rom9JaY5vQyd"
      },
      "execution_count": 2,
      "outputs": []
    },
    {
      "cell_type": "code",
      "source": [
        "def manipulability_index(G, J_h):\n",
        "   GT = np.transpose(G)\n",
        "   GI = np.linalg.inv(np.dot(G,GT))\n",
        "   GP = np.dot(GT,GI)\n",
        "   GPT = np.transpose(GP)\n",
        "   A = np.dot(GPT,J_h)\n",
        "   AT = np.transpose(A)\n",
        "   mu = np.sqrt(np.linalg.det(A@AT))\n",
        "   return mu"
      ],
      "metadata": {
        "id": "tQEmTbpqvUux"
      },
      "execution_count": 3,
      "outputs": []
    },
    {
      "cell_type": "code",
      "source": [
        "mu = manipulability_index(G, J_h)\n",
        "print(mu)"
      ],
      "metadata": {
        "id": "aNOtrF9J4GHd"
      },
      "execution_count": null,
      "outputs": []
    }
  ]
}