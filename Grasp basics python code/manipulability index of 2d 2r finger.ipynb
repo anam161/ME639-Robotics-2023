{
  "nbformat": 4,
  "nbformat_minor": 0,
  "metadata": {
    "colab": {
      "provenance": []
    },
    "kernelspec": {
      "name": "python3",
      "display_name": "Python 3"
    },
    "language_info": {
      "name": "python"
    }
  },
  "cells": [
    {
      "cell_type": "code",
      "source": [
        "import numpy as np\n",
        "import matplotlib.pyplot as plt\n",
        "\n",
        "# lengths of finger 1\n",
        "L1a = 1.5\n",
        "L1b = 1\n",
        "\n",
        "# lengths of finger 2\n",
        "L2a = 1.5\n",
        "L2b = 1\n",
        "\n",
        "\n",
        "# Define joint angles of finger 1\n",
        "theta1a = 2.5516050439\n",
        "theta1b = -1.8234765819369754\n",
        "\n",
        "# Define joint angles of finger 2\n",
        "theta2a = 0.5899877365718454\n",
        "theta2b =1.8234765819369754\n",
        "\n",
        "# Forward Kinematics to calculate finger1 positions\n",
        "x1a = L1a * np.cos(theta1a)\n",
        "y1a = L1a * np.sin(theta1a)\n",
        "\n",
        "x1b = x1a + L1b * np.cos(theta1a + theta1b)\n",
        "y1b = y1a + L1b * np.sin(theta1a + theta1b)\n",
        "\n",
        "# Forward Kinematics to calculate finger2 positions\n",
        "x2a = L1a * np.cos(theta2a)\n",
        "y2a = L1a * np.sin(theta2a)\n",
        "\n",
        "x2b = x2a + L1b * np.cos(theta2a + theta2b)\n",
        "y2b = y2a + L1b * np.sin(theta2a + theta2b)\n",
        "\n",
        "# Plotting\n",
        "plt.figure(figsize=(8, 8))\n",
        "\n",
        "# Plot finger1 links\n",
        "plt.plot([0, x1a], [0, y1a], 'r-', lw=5)  #first link of finger1          [0, x1] and [0, y1] represent the x and y coordinates of the line's endpoints respectively.\n",
        "                                                                          #red ('r') and solid ('-'). lw=2 sets the line width to 2 for better visibility\n",
        "plt.plot([x1a, x1b], [y1a, y1b], 'r-', lw=5)  #second link of finger1\n",
        "\n",
        "# Plot finger2 links\n",
        "plt.plot([0, x2a], [0, y2a], 'r-', lw=5)  #first link of finger2\n",
        "plt.plot([x2a, x2b], [y2a, y2b], 'r-', lw=5)  #second link of finger2\n",
        "\n",
        "# Plot first fingers\n",
        "plt.plot(0, 0, 'ro', markersize=10)  # Base of gripper || red ('r') circle ('o') at the origin (0, 0)\n",
        "plt.plot(x1a, y1a, 'bo', markersize=8)  # Joint 1 || blue ('b') circle ('o') at the origin (0, 0)\n",
        "plt.plot(x1b, y1b, 'bo', markersize=7)  # Joint 2\n",
        "\n",
        "# Plot second fingers\n",
        "plt.plot(0, 0, 'ro', markersize=10)  # Base of gripper\n",
        "plt.plot(x2a, y2a, 'bo', markersize=8)  # Joint 1\n",
        "plt.plot(x2b, y2b, 'bo', markersize=7)  # Joint 2\n",
        "\n",
        "# Define object parameters\n",
        "object_position = np.array([0, 1.5])  # Object position\n",
        "object_radius = 0.5  # Object radius\n",
        "\n",
        "# Plot object\n",
        "circle = plt.Circle((object_position[0], object_position[1]), object_radius, color='g', alpha=1)\n",
        "plt.gca().add_patch(circle)\n",
        "\n",
        "# Plot object position\n",
        "plt.plot(object_position[0], object_position[1], 'rx', markersize=5)\n",
        "\n",
        "# Set plot limits and aspect\n",
        "plt.xlim(-3, 5)\n",
        "plt.ylim(-2, 5)\n",
        "plt.gca().set_aspect('equal', adjustable='box')\n",
        "\n",
        "# Labels and legend\n",
        "plt.title('2D 2R Gripper Grasping Object')\n",
        "plt.xlabel('X')\n",
        "plt.ylabel('Y')\n",
        "# plt.legend(['Link 1a', 'Link 1b','Link 2a', 'Link 2b','Object', 'Object Position'])\n",
        "\n",
        "plt.grid(True)\n",
        "plt.show()\n"
      ],
      "metadata": {
        "colab": {
          "base_uri": "https://localhost:8080/",
          "height": 645
        },
        "id": "jNAPU00t5As4",
        "outputId": "891504fd-384b-4233-c172-b4fb5671bad5"
      },
      "execution_count": 107,
      "outputs": [
        {
          "output_type": "display_data",
          "data": {
            "text/plain": [
              "<Figure size 800x800 with 1 Axes>"
            ],
            "image/png": "[encoded data removed]"
          },
          "metadata": {}
        }
      ]
    },
    {
      "cell_type": "code",
      "source": [
        "import numpy as np\n",
        "\n",
        "def inverse_kinematics_2R(x, y, L1, L2):\n",
        "    # Calculate theta2\n",
        "    r_squared = x**2 + y**2\n",
        "    cos_theta2 = (r_squared - L1**2 - L2**2) / (2 * L1 * L2)\n",
        "    sin_theta2 = np.sqrt(1 - cos_theta2**2)\n",
        "    theta2 = np.arctan2(sin_theta2, cos_theta2)\n",
        "\n",
        "    # Calculate theta1\n",
        "    theta1 = np.arctan2(y, x) - np.arctan2(L2 * np.sin(theta2), L1 + L2 * np.cos(theta2))\n",
        "\n",
        "    return theta1, theta2"
      ],
      "metadata": {
        "id": "UGsdGpbbCixK"
      },
      "execution_count": 92,
      "outputs": []
    },
    {
      "cell_type": "code",
      "source": [
        "# Example usage\n",
        "x = 0.5  # desired x-coordinate of end-effector\n",
        "y = 1.5  # desired y-coordinate of end-effector\n",
        "L1 = 1.5  # length of the first link\n",
        "L2 = 1  # length of the second link\n",
        "\n",
        "theta1, theta2 = inverse_kinematics_2R(x, y, L1, L2)\n",
        "print(theta1, theta2, np.degrees(theta1), np.degrees(theta2))"
      ],
      "metadata": {
        "colab": {
          "base_uri": "https://localhost:8080/"
        },
        "id": "fODlnuxxCfoU",
        "outputId": "5a0890a7-ba9c-4f9d-e497-246affcae825"
      },
      "execution_count": 93,
      "outputs": [
        {
          "output_type": "stream",
          "name": "stdout",
          "text": [
            "0.5899877365718454 1.8234765819369754 33.80380727004295 104.47751218592994\n"
          ]
        }
      ]
    },
    {
      "cell_type": "code",
      "source": [
        "def grasp_matrix(t1, n1, x1):\n",
        "\n",
        "    t1 = np.atleast_2d(t1).T\n",
        "    n1 = np.atleast_2d(n1).T\n",
        "    x1 = np.atleast_2d(x1).T\n",
        "\n",
        "    G = np.block([[t1, n1], [np.cross(x1.T, t1.T).T, np.cross(x1.T, n1.T).T]])\n",
        "    return G\n",
        "\n"
      ],
      "metadata": {
        "id": "YjwgdzdKDUYj"
      },
      "execution_count": 94,
      "outputs": []
    },
    {
      "cell_type": "code",
      "source": [
        "# Test\n",
        "t1 = np.array([0, -1])\n",
        "n1 = np.array([1, 0])\n",
        "x1 = np.array([-0.5, 0])\n",
        "\n",
        "G1 = grasp_matrix(t1, n1, x1)\n",
        "print(G1)"
      ],
      "metadata": {
        "colab": {
          "base_uri": "https://localhost:8080/"
        },
        "id": "t5ct8WUWDt89",
        "outputId": "6d639bb0-de11-4033-fb80-fb7d011b3887"
      },
      "execution_count": 95,
      "outputs": [
        {
          "output_type": "stream",
          "name": "stdout",
          "text": [
            "[[ 0.   1. ]\n",
            " [-1.   0. ]\n",
            " [ 0.5 -0. ]]\n"
          ]
        }
      ]
    },
    {
      "cell_type": "code",
      "source": [
        "# Test\n",
        "t1 = np.array([0, 1])\n",
        "n1 = np.array([-1, 0])\n",
        "x1 = np.array([-0.5, 0])\n",
        "\n",
        "G2 = grasp_matrix(t1, n1, x1)\n",
        "print(G2)"
      ],
      "metadata": {
        "colab": {
          "base_uri": "https://localhost:8080/"
        },
        "id": "2wIDpQ0dQioi",
        "outputId": "dea17096-b08e-48f9-e451-c40a28ebdb2c"
      },
      "execution_count": 96,
      "outputs": [
        {
          "output_type": "stream",
          "name": "stdout",
          "text": [
            "[[ 0.  -1. ]\n",
            " [ 1.   0. ]\n",
            " [-0.5  0. ]]\n"
          ]
        }
      ]
    },
    {
      "cell_type": "code",
      "source": [
        "\n",
        "G = np.column_stack([G1,G2])"
      ],
      "metadata": {
        "id": "zd1RreHkQoWl"
      },
      "execution_count": 124,
      "outputs": []
    },
    {
      "cell_type": "code",
      "source": [
        "print(G)"
      ],
      "metadata": {
        "colab": {
          "base_uri": "https://localhost:8080/"
        },
        "id": "wwzUneb9Rekx",
        "outputId": "e795e767-116f-4dbe-f6fd-03feb0c95011"
      },
      "execution_count": 98,
      "outputs": [
        {
          "output_type": "stream",
          "name": "stdout",
          "text": [
            "[[ 0.   1.   0.  -1. ]\n",
            " [-1.   0.   1.   0. ]\n",
            " [ 0.5 -0.  -0.5  0. ]]\n"
          ]
        }
      ]
    },
    {
      "cell_type": "code",
      "source": [
        "G = G[0:2,0:]"
      ],
      "metadata": {
        "id": "m-e86g-VOgdE"
      },
      "execution_count": 125,
      "outputs": []
    },
    {
      "cell_type": "code",
      "source": [
        "import numpy as np\n",
        "def W(t, n):\n",
        "    t = np.atleast_2d(t).T\n",
        "    n = np.atleast_2d(n).T\n",
        "    w  = np.block([t,n])\n",
        "    return w\n",
        "\n",
        "\n",
        "def rotation_matrix_2d(theta):\n",
        "    R = np.array([[np.cos(theta), -np.sin(theta)],\n",
        "                  [np.sin(theta), np.cos(theta)]])\n",
        "    return R\n",
        "\n",
        "def jacobian(l1,l2,theta1,theta2):\n",
        "    J = np.array([[-l1*np.sin(theta1), -l2*np.sin(theta2)],\n",
        "                  [l1*np.cos(theta1), l2*np.cos(theta2)]])\n",
        "    return J\n",
        "\n",
        "\n",
        "\n",
        "# test first finger\n",
        "t = np.array([0, -1])\n",
        "n = np.array([1, 0])\n",
        "theta = 0\n",
        "theta1 = 2.5516050439\n",
        "theta2 = -1.8234765819369754\n",
        "l1 = 1.5\n",
        "l2 = 1\n",
        "w= W(t, n)\n",
        "R= rotation_matrix_2d(theta)\n",
        "J = jacobian(l1,l2,theta1,theta2)\n",
        "print(w)\n",
        "\n",
        "print(R)\n",
        "\n",
        "print(J)"
      ],
      "metadata": {
        "colab": {
          "base_uri": "https://localhost:8080/"
        },
        "id": "dnuPxWxBRrAW",
        "outputId": "7d06778b-9c62-47e1-f9a6-490dc2b79b71"
      },
      "execution_count": 126,
      "outputs": [
        {
          "output_type": "stream",
          "name": "stdout",
          "text": [
            "[[ 0  1]\n",
            " [-1  0]]\n",
            "[[ 1. -0.]\n",
            " [ 0.  1.]]\n",
            "[[-0.83452609  0.96824584]\n",
            " [-1.24642136 -0.25      ]]\n"
          ]
        }
      ]
    },
    {
      "cell_type": "code",
      "source": [
        "def hand_jacobian(t,n,w,R,J):\n",
        "\n",
        "    WRJ = np.dot(np.dot(w,R), J)\n",
        "    O  = np.zeros((2,2))\n",
        "    HJR1 = np.concatenate([WRJ,O],axis=1)\n",
        "    return HJR1\n",
        "\n",
        "HJR1 = hand_jacobian(t,n,w,R,J)\n",
        "print(HJR1)\n"
      ],
      "metadata": {
        "colab": {
          "base_uri": "https://localhost:8080/"
        },
        "id": "9bCh2ibIfa2h",
        "outputId": "57d5e8c2-c82f-4dec-c10d-b3f31bcd12a6"
      },
      "execution_count": 127,
      "outputs": [
        {
          "output_type": "stream",
          "name": "stdout",
          "text": [
            "[[-1.24642136 -0.25        0.          0.        ]\n",
            " [ 0.83452609 -0.96824584  0.          0.        ]]\n"
          ]
        }
      ]
    },
    {
      "cell_type": "code",
      "source": [
        "#second finger\n",
        "t = np.array([0, 1])\n",
        "n = np.array([-1, 0])\n",
        "theta = 0\n",
        "theta1 = 0.5899877365718454\n",
        "theta2 = 1.8234765819369754\n",
        "l1 = 1.5\n",
        "l2 = 1\n",
        "w= W(t, n)\n",
        "R= rotation_matrix_2d(theta)\n",
        "J = jacobian(l1,l2,theta1,theta2)\n",
        "print(w)\n",
        "\n",
        "print(R)\n",
        "\n",
        "print(J)"
      ],
      "metadata": {
        "colab": {
          "base_uri": "https://localhost:8080/"
        },
        "id": "eVG-WzR6fgXD",
        "outputId": "61aa3a9b-529e-41a5-8833-33dbbe801ff8"
      },
      "execution_count": 128,
      "outputs": [
        {
          "output_type": "stream",
          "name": "stdout",
          "text": [
            "[[ 0 -1]\n",
            " [ 1  0]]\n",
            "[[ 1. -0.]\n",
            " [ 0.  1.]]\n",
            "[[-0.83452625 -0.96824584]\n",
            " [ 1.24642125 -0.25      ]]\n"
          ]
        }
      ]
    },
    {
      "cell_type": "code",
      "source": [
        "def hand_jacobian(t1,n1,w,R,J):\n",
        "\n",
        "    WRJ = np.dot(np.dot(w,R), J)\n",
        "    O  = np.zeros((2,2))\n",
        "    HJR2 = np.concatenate([O,WRJ], axis = 1)\n",
        "    return HJR2\n",
        "\n",
        "HJR2 = hand_jacobian(t,n,w,R,J)\n",
        "print(HJR2)"
      ],
      "metadata": {
        "colab": {
          "base_uri": "https://localhost:8080/"
        },
        "id": "LMf_G1DXfjTd",
        "outputId": "4e7b32df-e83c-4be2-f8f4-470dd02568e8"
      },
      "execution_count": 129,
      "outputs": [
        {
          "output_type": "stream",
          "name": "stdout",
          "text": [
            "[[ 0.          0.         -1.24642125  0.25      ]\n",
            " [ 0.          0.         -0.83452625 -0.96824584]]\n"
          ]
        }
      ]
    },
    {
      "cell_type": "code",
      "source": [
        "Hand_jacobian = np.concatenate([HJR1,HJR2])\n",
        "print(Hand_jacobian)"
      ],
      "metadata": {
        "colab": {
          "base_uri": "https://localhost:8080/"
        },
        "id": "RpmhqdKUfliw",
        "outputId": "6ab4d9af-713d-4458-db2f-22267d4e081f"
      },
      "execution_count": 130,
      "outputs": [
        {
          "output_type": "stream",
          "name": "stdout",
          "text": [
            "[[-1.24642136 -0.25        0.          0.        ]\n",
            " [ 0.83452609 -0.96824584  0.          0.        ]\n",
            " [ 0.          0.         -1.24642125  0.25      ]\n",
            " [ 0.          0.         -0.83452625 -0.96824584]]\n"
          ]
        }
      ]
    },
    {
      "cell_type": "code",
      "source": [
        "def manipulability_index(G, Hand_jacobian):\n",
        "   GT = np.transpose(G)\n",
        "   print(G)\n",
        "   GI = np.linalg.inv(G@GT)\n",
        "   GP = np.dot(GT,GI)\n",
        "   GPT = np.transpose(GP)\n",
        "   A = np.dot(GPT,Hand_jacobian)\n",
        "   AT = np.transpose(A)\n",
        "   mu = np.sqrt(np.linalg.det(A@AT))\n",
        "   return mu"
      ],
      "metadata": {
        "id": "AP4LORh8i3p1"
      },
      "execution_count": 131,
      "outputs": []
    },
    {
      "cell_type": "code",
      "source": [
        "mu = manipulability_index(G,  Hand_jacobian)\n",
        "print(mu)"
      ],
      "metadata": {
        "colab": {
          "base_uri": "https://localhost:8080/"
        },
        "id": "7upsltWMp-aM",
        "outputId": "44c25bfc-95fc-41b4-962c-a12bf82656a5"
      },
      "execution_count": 132,
      "outputs": [
        {
          "output_type": "stream",
          "name": "stdout",
          "text": [
            "[[ 0.  1.  0. -1.]\n",
            " [-1.  0.  1.  0.]]\n",
            "0.8124877206647897\n"
          ]
        }
      ]
    },
    {
      "cell_type": "code",
      "source": [],
      "metadata": {
        "id": "KHSLXyE4qNRp"
      },
      "execution_count": null,
      "outputs": []
    }
  ]
}