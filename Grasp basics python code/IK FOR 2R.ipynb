{
  "nbformat": 4,
  "nbformat_minor": 0,
  "metadata": {
    "colab": {
      "provenance": []
    },
    "kernelspec": {
      "name": "python3",
      "display_name": "Python 3"
    },
    "language_info": {
      "name": "python"
    }
  },
  "cells": [
    {
      "cell_type": "markdown",
      "source": [
        "**INVERSE KINEMATICS FOR 2R**"
      ],
      "metadata": {
        "id": "as3HPePQH6xk"
      }
    },
    {
      "cell_type": "code",
      "execution_count": null,
      "metadata": {
        "id": "izqrQp3NHdBB"
      },
      "outputs": [],
      "source": [
        "import numpy as np\n",
        "\n",
        "def inverse_kinematics_2R(x, y, L1, L2):\n",
        "    # Calculate theta2\n",
        "    r_squared = x**2 + y**2\n",
        "    cos_theta2 = (r_squared - L1**2 - L2**2) / (2 * L1 * L2)\n",
        "    sin_theta2 = np.sqrt(1 - cos_theta2**2)\n",
        "    theta2 = np.arctan2(sin_theta2, cos_theta2)\n",
        "\n",
        "    # Calculate theta1\n",
        "    theta1 = np.arctan2(y, x) - np.arctan2(L2 * np.sin(theta2), L1 + L2 * np.cos(theta2))\n",
        "\n",
        "    return theta1, theta2\n",
        "\n",
        "\n"
      ]
    },
    {
      "cell_type": "code",
      "source": [
        "# Example usage\n",
        "x = 0.5  # desired x-coordinate of end-effector\n",
        "y = 2  # desired y-coordinate of end-effector\n",
        "L1 = 1.5  # length of the first link\n",
        "L2 = 1  # length of the second link\n",
        "\n",
        "theta1, theta2 = inverse_kinematics_2R(x, y, L1, L2)\n",
        "print(theta1, theta2)"
      ],
      "metadata": {
        "id": "pzgq-Ld0Hkyb"
      },
      "execution_count": null,
      "outputs": []
    }
  ]
}