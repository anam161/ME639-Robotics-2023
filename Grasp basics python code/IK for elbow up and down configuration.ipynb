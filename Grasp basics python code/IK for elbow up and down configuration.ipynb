{
  "nbformat": 4,
  "nbformat_minor": 0,
  "metadata": {
    "colab": {
      "provenance": []
    },
    "kernelspec": {
      "name": "python3",
      "display_name": "Python 3"
    },
    "language_info": {
      "name": "python"
    }
  },
  "cells": [
    {
      "cell_type": "code",
      "source": [],
      "metadata": {
        "id": "2ZHWEL_lv2vg"
      },
      "execution_count": null,
      "outputs": []
    },
    {
      "cell_type": "code",
      "source": [
        "import numpy as np\n",
        "\n",
        "def elbow_down_inverse_kinematics_2R(x, y, L1, L2):\n",
        "    # Calculate theta2\n",
        "    r_squared = x**2 + y**2\n",
        "    cos_theta2 = (r_squared - L1**2 - L2**2) / (2 * L1 * L2)\n",
        "    sin_theta2 = np.sqrt(1 - cos_theta2**2)\n",
        "    theta2 = np.arctan2(sin_theta2, cos_theta2)\n",
        "\n",
        "    # Calculate theta1\n",
        "    theta1 = np.arctan2(y, x) - np.arctan2(L2 * np.sin(theta2), L1 + L2 * np.cos(theta2))\n",
        "\n",
        "    return theta1, theta2"
      ],
      "metadata": {
        "id": "uY6hQPTNv2oJ"
      },
      "execution_count": 72,
      "outputs": []
    },
    {
      "cell_type": "code",
      "source": [
        "# Example usage\n",
        "x = -0.5  # desired x-coordinate of end-effector\n",
        "y = 1.5  # desired y-coordinate of end-effector\n",
        "L1 = 1.5  # length of the first link\n",
        "L2 = 1  # length of the second link\n",
        "\n",
        "theta1, theta2 = elbow_down_inverse_kinematics_2R(x, y, L1, L2)\n",
        "print(theta1, theta2, np.degrees(theta1), np.degrees(theta2))"
      ],
      "metadata": {
        "colab": {
          "base_uri": "https://localhost:8080/"
        },
        "id": "OyLQWvN0v2fQ",
        "outputId": "83a8f839-91ea-4960-8b26-a23075d43d21"
      },
      "execution_count": 74,
      "outputs": [
        {
          "output_type": "stream",
          "name": "stdout",
          "text": [
            "1.2334888453651298 1.8234765819369754 70.67370491588697 104.47751218592994\n"
          ]
        }
      ]
    },
    {
      "cell_type": "code",
      "source": [],
      "metadata": {
        "id": "rJmmVHq-v2Qf"
      },
      "execution_count": null,
      "outputs": []
    },
    {
      "cell_type": "code",
      "source": [
        "import numpy as np\n"
      ],
      "metadata": {
        "id": "yXwNspKccA4F"
      },
      "execution_count": 59,
      "outputs": []
    },
    {
      "cell_type": "code",
      "source": [
        "def elbow_up_inverse_kinematics(x, y, l1, l2):\n",
        "    r_squared = x**2 + y**2\n",
        "    alpha = np.arccos((l1**2 + l2**2 - r_squared)/(2*l1*l2))\n",
        "    theta2 = np. pi- alpha\n",
        "\n",
        "    sai = np.arctan2(l2*np.sin(theta2),(l1+l2*np.cos(theta2)))\n",
        "    theta2s = -theta2\n",
        "    beta = np.arctan2(y,x)\n",
        "    theta1s = beta+ sai\n",
        "    return theta1s, theta2s"
      ],
      "metadata": {
        "id": "iBoq8O0WcFeK"
      },
      "execution_count": 68,
      "outputs": []
    },
    {
      "cell_type": "code",
      "source": [
        "x = -0.5  # desired x-coordinate of end-effector\n",
        "y = 1.5  # desired y-coordinate of end-effector\n",
        "l1 = 1.5  # length of the first link\n",
        "l2 = 1  # length of the second link"
      ],
      "metadata": {
        "id": "vZlkNRzFlolL"
      },
      "execution_count": 69,
      "outputs": []
    },
    {
      "cell_type": "code",
      "source": [
        "theta1s, theta2s = elbow_up_inverse_kinematics(x, y, l1, l2)\n",
        "print(theta1s, theta2s, np.degrees(theta1s), np.degrees(theta2s))"
      ],
      "metadata": {
        "colab": {
          "base_uri": "https://localhost:8080/"
        },
        "id": "2BXkzcNdnmMq",
        "outputId": "be28696c-aa85-44c6-a45a-b1d30a2d9738"
      },
      "execution_count": 71,
      "outputs": [
        {
          "output_type": "stream",
          "name": "stdout",
          "text": [
            "2.551604917017948 -1.8234765819369751 146.19619272995706 -104.47751218592992\n"
          ]
        }
      ]
    },
    {
      "cell_type": "code",
      "source": [],
      "metadata": {
        "id": "l3xfKt0Gn0Va"
      },
      "execution_count": null,
      "outputs": []
    }
  ]
}