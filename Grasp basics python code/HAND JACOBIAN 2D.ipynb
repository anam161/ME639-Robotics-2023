{
  "nbformat": 4,
  "nbformat_minor": 0,
  "metadata": {
    "colab": {
      "provenance": []
    },
    "kernelspec": {
      "name": "python3",
      "display_name": "Python 3"
    },
    "language_info": {
      "name": "python"
    }
  },
  "cells": [
    {
      "cell_type": "markdown",
      "source": [
        "**HAND JACOBIAN FOR 2R**"
      ],
      "metadata": {
        "id": "WpGgBqvC7l6_"
      }
    },
    {
      "cell_type": "code",
      "source": [
        "import numpy as np\n",
        "def W(t, n):\n",
        "    t = np.atleast_2d(t).T\n",
        "    n = np.atleast_2d(n).T\n",
        "    w  = np.block([t,n])\n",
        "    return w\n",
        "\n",
        "def rotation_matrix_2d(theta):\n",
        "    R = np.array([[np.cos(theta), -np.sin(theta)],\n",
        "                  [np.sin(theta), np.cos(theta)]])\n",
        "    return R\n",
        "\n",
        "def jacobian(l1,l2,theta1,theta2):\n",
        "    J = np.array([[-l1*np.sin(theta1), -l2*np.sin(theta2)],\n",
        "                  [l1*np.cos(theta1), l2*np.cos(theta2)]])\n",
        "    return J\n",
        "\n",
        "\n",
        "\n",
        "# test\n",
        "t = np.array([0, -1])\n",
        "n = np.array([1, 0])\n",
        "theta = 0\n",
        "theta1 = 120*(np.pi/180)\n",
        "theta2 = np.pi/6\n",
        "l1 = 0.866\n",
        "l2 = 0.5\n",
        "w= W(t, n)\n",
        "R= rotation_matrix_2d(theta)\n",
        "J = jacobian(l1,l2,theta1,theta2)\n",
        "print(w)\n",
        "\n",
        "print(R)\n",
        "\n",
        "print(J)"
      ],
      "metadata": {
        "id": "_gq0s3KR1wNC"
      },
      "execution_count": null,
      "outputs": []
    },
    {
      "cell_type": "code",
      "source": [
        "def hand_jacobian(t,n,w,R,J):\n",
        "\n",
        "    WRJ = np.dot(np.dot(w,R), J)\n",
        "    O  = np.zeros((2,2))\n",
        "    HJR1 = np.concatenate([WRJ,O],axis=1)\n",
        "    return HJR1\n",
        "\n",
        "HJR1 = hand_jacobian(t,n,w,R,J)\n",
        "print(HJR1)\n"
      ],
      "metadata": {
        "id": "A7KT6-MAzQeR"
      },
      "execution_count": null,
      "outputs": []
    },
    {
      "cell_type": "code",
      "source": [
        "t = np.array([0, 1])\n",
        "n = np.array([-1, 0])\n",
        "theta = 0\n",
        "theta1 = 120*(np.pi/180)\n",
        "theta2 = np.pi/6\n",
        "l1 = 0.866\n",
        "l2 = 0.5\n",
        "w= W(t, n)\n",
        "R= rotation_matrix_2d(theta)\n",
        "J = jacobian(l1,l2,theta1,theta2)\n",
        "print(w)\n",
        "\n",
        "print(R)\n",
        "\n",
        "print(J)"
      ],
      "metadata": {
        "id": "4zFBL-ml0Ix8"
      },
      "execution_count": null,
      "outputs": []
    },
    {
      "cell_type": "code",
      "source": [
        "def hand_jacobian(t1,n1,w,R,J):\n",
        "\n",
        "    WRJ = np.dot(np.dot(w,R), J)\n",
        "    O  = np.zeros((2,2))\n",
        "    HJR2 = np.concatenate([O,WRJ], axis = 1)\n",
        "    return HJR2\n",
        "\n",
        "HJR2 = hand_jacobian(t,n,w,R,J)\n",
        "print(HJR2)"
      ],
      "metadata": {
        "id": "PpbvFW3-vJd-"
      },
      "execution_count": null,
      "outputs": []
    },
    {
      "cell_type": "code",
      "source": [
        "Hand_jacobian = np.concatenate([HJR1,HJR2])\n",
        "print(Hand_jacobian)"
      ],
      "metadata": {
        "id": "2Lh_7vkOalTe"
      },
      "execution_count": null,
      "outputs": []
    }
  ]
}